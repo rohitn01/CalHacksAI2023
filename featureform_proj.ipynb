{
 "cells": [
  {
   "cell_type": "code",
   "execution_count": 1,
   "metadata": {},
   "outputs": [],
   "source": [
    "import pandas as pd"
   ]
  },
  {
   "cell_type": "code",
   "execution_count": 2,
   "metadata": {},
   "outputs": [
    {
     "name": "stdout",
     "output_type": "stream",
     "text": [
      "   Section Number                                            Content\n",
      "0               0  NBER WORKING PAPER SERIES THE IMPACT OF COVID-...\n",
      "1               1  Most major industries faced large drops in the...\n",
      "2               2  unprecedented . Conditioning on or more hours ...\n",
      "3               3  Latinx business owners drops from percent to p...\n",
      "4               4  References Alexander W. Bartik , Marianne Bert...\n",
      "5               5  Feb. Apr Gr oup Number Number Number % Change ...\n",
      "6               6  ,,,,,,,,,,,,,,,,,, Worked in Survey Week Worke...\n",
      "7               7  ,,,,,,,,, African-American Latinx AsianNumber ...\n"
     ]
    }
   ],
   "source": [
    "import pandas as pd\n",
    "import re\n",
    "import pypdf\n",
    "\n",
    "def clean_text(text):\n",
    "    # Remove numbers that appear randomly using regular expressions\n",
    "    cleaned_text = re.sub(r'\\b\\d+\\b', '', text)  # Remove standalone numbers\n",
    "    cleaned_text = re.sub(r'\\s+', ' ', cleaned_text)  # Replace multiple whitespaces with a single whitespace\n",
    "    cleaned_text = cleaned_text.strip()  # Remove leading/trailing whitespaces\n",
    "    return cleaned_text\n",
    "\n",
    "def parse_pdf_paragraphs(pdf_path):\n",
    "    paragraphs = []\n",
    "    with open(pdf_path, \"rb\") as file:\n",
    "        reader = pypdf.PdfReader(file)\n",
    "        num_pages = len(reader.pages)\n",
    "        for page_num in range(num_pages):\n",
    "            page = reader.pages[page_num]\n",
    "            text = page.extract_text()\n",
    "            page_paragraphs = text.split(\"\\n\\n\")\n",
    "            paragraphs.extend(page_paragraphs)\n",
    "    return paragraphs\n",
    "\n",
    "def split_into_sections(paragraphs, section_size):\n",
    "    sections = []\n",
    "    current_section = \"\"\n",
    "    for i, paragraph in enumerate(paragraphs):\n",
    "        cleaned_paragraph = clean_text(paragraph)\n",
    "        current_section += cleaned_paragraph + \" \"\n",
    "        if (i + 1) % section_size == 0:\n",
    "            sections.append(current_section.strip())\n",
    "            current_section = \"\"\n",
    "    if current_section:\n",
    "        sections.append(current_section.strip())\n",
    "    return sections\n",
    "\n",
    "# Example usage\n",
    "pdf_file_path = \"sample-pdf.pdf\"\n",
    "paragraphs = parse_pdf_paragraphs(pdf_file_path)\n",
    "section_size = 3\n",
    "parsed_sections = split_into_sections(paragraphs, section_size)\n",
    "\n",
    "# Convert sections to DataFrame\n",
    "data = {\n",
    "    \"Section Number\": range(len(parsed_sections)),\n",
    "    \"Content\": parsed_sections\n",
    "}\n",
    "df = pd.DataFrame(data)\n",
    "\n",
    "# Display the DataFrame\n",
    "print(df)"
   ]
  },
  {
   "cell_type": "code",
   "execution_count": 3,
   "metadata": {},
   "outputs": [
    {
     "data": {
      "text/plain": [
       "'Most major industries faced large drops in the number of business owners with the only exception being agriculture. Construction, restaurants, hotels and transportation all faced large declines in the number of business owners due to COVID -. Simulations reveal that the concentrations of female, black, Latinx and Asian businesses in industries hit hard by the pandemic contributed to why losses were higher for these groups than the national average loss. Overall, these first estimates of impacts of COVID - on small business es from the April CPS indicate that losses were spread across demographic groups and types of business – no group was immune to negative impacts of social distancing policy mandates and demand shifts. These results build on the findi ngs from a few previous studies of the early effects of the coronavirus on small businesses. Employer business applications as measured by the U.S. Census weekly Business Formation Statistics fell in the five weeks f rom mid -March to md -April by over percent relative to the previous year (Wilmoth ) . Estimates from the U.S. Census Small Business Pulse Survey indicate that roughly percent of businesses report having a large negative effect from the COVID - pandemic and that only - percent of businesses have enough cash on hand to cover months of operations (U.S. Census Bureau ; Bohn, Mejia and Lafortune ). Bartik et al. () conducted a survey in late March of nearly , small businesses that were members of the Alignable busines s network. They find that percent of businesses are temporarily closed, large reductions in employees, and the majority of businesses have less than one month of cash on hand. T he Stanford Latino Entrepreneurship Initiative () survey ed high-revenue Latin x-owned businesses and found that % of respondents reported immediate negative effects such as delayed projects and closure from the pandemic. This paper is the first to use CPS data covering the early effects of COVID - mandates and demand shifts on small businesses , and the first to explore differential effects for female, minority and immigrant business owners, which is potentially important for targeting government aid to preserve small businesses and the jobs they create. .Da ta Large literatures explore the causes and consequences of disparities in ownership and success of minority -, female - , and immigrant -owned businesses. For broader discussions and reviews of th ese literature, see, for example, Davila and Mora (); Fairlie and Robb (); Jennings and Brush () ; Kerr and Kerr. (); Parker (). . Current Population Survey (CPS) Although research on small businesses and entrepreneurship is growing rapidly, there are very few national datasets that provide information on ownership with additional information on demographic characteristics of the owners . Using micro data from the Current Population Surveys (CPS), I measure self-employed business ownership at the individual owner level. The underlying datasets are the bas ic monthly files to the Current Population Survey (CPS). These surveys, conducted monthly by the U.S. Bureau of the Census and the U.S. Bureau of Labor Statistics, are representative of the entire U.S. population and contain observations for more than , people. Measures of the number and rate of business ownership are available from only a handful of other large, nationally representative government datasets, such as the Survey of Business Owners (SBO), Census PUMS files, and the American Community Survey (ACS). Measures of business ownership based on these cross -sectional data, however, cannot capture recent patterns because there is often a to year delay in release . The CPS is ideal in that it release microdata within a month of the survey week . The measure of business ownership in the CPS captures all business owners including those who own incorporated or unincorporated businesses, and those who are employers or non - employers. Although some business owners own large businesses the predominate form are small businesses. I interpret the data as predominately covering small business owners. To estimate business ownership in the CPS data, I identify all individuals who own a busin ess as their main job in the survey month (based on the class of worker question and monthly labor force recode) . The business ownership rate is thus defined as the percentage of the labor force that owns and is actively employed in a business. The main job is defined as the one with the most hours worked during the survey week. Thus, individuals who start side businesses will not be counted if they are working more hours on a wage and salary job. In addition to providing information on business ownership , the CPS data include information on detailed demographic information including gender, race, and immigrant status of the owner . The data also include information on the industry and incorporation status of the business. Sur vey Timing and Shelte r-in-Place Restrictions The CPS survey reference period is generally the calendar week that contains the 12th day of the month. For April, the week was Sunday, April 12th through Saturday, April 18th. The March survey reference week was March 8th through March 14th. Given that shelter -in-place restrictions started after this reference week, the April is the first CPS survey fully covering the early -stage impacts of COVID -. On March , San Francisco Bay Area imposed shelter -in-place restriction s followed by the State of California on March . New York State followed the next day. By early April all state imposed social distancing restrictions. The analysis below mostly relies on comparisons between February (prior to social distancing policy mandates) and April ( the first month after policy mandates). . Results . Number of Business Owners I first examine small business owners hip patterns over time to determine the impacts of COVID- . Long- term trends in the number of business owners are displayed in Figure (and recent months in Table ) . The number of business owners working any amount and working at least hours in the survey week are reported. The choice of hours is made to approximate two days a week and accommodate lumpy hours reporting (i.e. often , , , etc…). Over the past two decades, the number of business owners in the United States has shown relatively smooth patterns over time with a slight upward trend. What is clear, however, is the dramatic drop in the number of business owners in April . The number of working business owners dropped from . million in February to . million in April because of COVID - . March only shows a small drop in business owners because of the limited effect from shelter -in-place restrictions. The loss of . million business owners (or percent) from February to April was the largest drop on record. When conditioning on working roughly two days per week, the losses are even lar ger. There were . million business owners working + hours in February and only . million in April . The drop of . million business owners or percent was In most analyses March is not included b ecause of partial effects. On March , the World Health Organization (WHO) declared COVID - a pandemic which might h ave resulted in early demand shifts over health concerns predating shelter-in -place restriction policies.'"
      ]
     },
     "execution_count": 3,
     "metadata": {},
     "output_type": "execute_result"
    }
   ],
   "source": [
    "df[\"Content\"][1]"
   ]
  },
  {
   "cell_type": "code",
   "execution_count": 4,
   "metadata": {},
   "outputs": [],
   "source": [
    "df.to_csv(\"paper.csv\", index=False)"
   ]
  },
  {
   "cell_type": "code",
   "execution_count": 5,
   "metadata": {},
   "outputs": [
    {
     "name": "stderr",
     "output_type": "stream",
     "text": [
      "TqdmWarning: IProgress not found. Please update jupyter and ipywidgets. See https://ipywidgets.readthedocs.io/en/stable/user_install.html\n"
     ]
    }
   ],
   "source": [
    "import featureform as ff\n",
    "from featureform import local\n",
    "\n",
    "client = ff.Client(local=True)"
   ]
  },
  {
   "cell_type": "code",
   "execution_count": 6,
   "metadata": {},
   "outputs": [],
   "source": [
    "ff.register_user(\"featureformer\").make_default_owner()\n",
    "\n",
    "local = ff.register_local()\n",
    "\n",
    "paper = local.register_file(\n",
    "    name=\"paper\",\n",
    "    variant=\"quickstart\",\n",
    "    description=\"A dataset of paper sections\",\n",
    "    path=\"paper.csv\"\n",
    ")"
   ]
  },
  {
   "cell_type": "code",
   "execution_count": 7,
   "metadata": {},
   "outputs": [
    {
     "name": "stdout",
     "output_type": "stream",
     "text": [
      "Applying Run: dynamic_lovelace\n",
      "Resource provider already registered.\n",
      "Creating user default_user \n",
      "Creating user featureformer \n",
      "Creating provider local-mode \n",
      "Creating source paper  quickstart\n"
     ]
    },
    {
     "data": {
      "text/html": [
       "<div>\n",
       "<style scoped>\n",
       "    .dataframe tbody tr th:only-of-type {\n",
       "        vertical-align: middle;\n",
       "    }\n",
       "\n",
       "    .dataframe tbody tr th {\n",
       "        vertical-align: top;\n",
       "    }\n",
       "\n",
       "    .dataframe thead th {\n",
       "        text-align: right;\n",
       "    }\n",
       "</style>\n",
       "<table border=\"1\" class=\"dataframe\">\n",
       "  <thead>\n",
       "    <tr style=\"text-align: right;\">\n",
       "      <th></th>\n",
       "      <th>Section Number</th>\n",
       "      <th>Content</th>\n",
       "    </tr>\n",
       "  </thead>\n",
       "  <tbody>\n",
       "    <tr>\n",
       "      <th>0</th>\n",
       "      <td>0</td>\n",
       "      <td>NBER WORKING PAPER SERIES THE IMPACT OF COVID-...</td>\n",
       "    </tr>\n",
       "    <tr>\n",
       "      <th>1</th>\n",
       "      <td>1</td>\n",
       "      <td>Most major industries faced large drops in the...</td>\n",
       "    </tr>\n",
       "    <tr>\n",
       "      <th>2</th>\n",
       "      <td>2</td>\n",
       "      <td>unprecedented . Conditioning on or more hours ...</td>\n",
       "    </tr>\n",
       "    <tr>\n",
       "      <th>3</th>\n",
       "      <td>3</td>\n",
       "      <td>Latinx business owners drops from percent to p...</td>\n",
       "    </tr>\n",
       "    <tr>\n",
       "      <th>4</th>\n",
       "      <td>4</td>\n",
       "      <td>References Alexander W. Bartik , Marianne Bert...</td>\n",
       "    </tr>\n",
       "  </tbody>\n",
       "</table>\n",
       "</div>"
      ],
      "text/plain": [
       "   Section Number                                            Content\n",
       "0               0  NBER WORKING PAPER SERIES THE IMPACT OF COVID-...\n",
       "1               1  Most major industries faced large drops in the...\n",
       "2               2  unprecedented . Conditioning on or more hours ...\n",
       "3               3  Latinx business owners drops from percent to p...\n",
       "4               4  References Alexander W. Bartik , Marianne Bert..."
      ]
     },
     "execution_count": 7,
     "metadata": {},
     "output_type": "execute_result"
    }
   ],
   "source": [
    "paper_df = client.dataframe(paper)\n",
    "paper_df.head()"
   ]
  },
  {
   "cell_type": "code",
   "execution_count": 9,
   "metadata": {},
   "outputs": [],
   "source": [
    "#feature transformation\n",
    "@local.df_transformation(inputs=[paper])\n",
    "def get_section_length(paper_df):\n",
    "    \"\"\"the average transaction amount for a user \"\"\"\n",
    "    paper_df[\"Section Length\"] = paper_df[\"Content\"].apply(lambda x: len(x))\n",
    "    return paper_df"
   ]
  },
  {
   "cell_type": "code",
   "execution_count": 10,
   "metadata": {},
   "outputs": [
    {
     "name": "stdout",
     "output_type": "stream",
     "text": [
      "Applying Run: dynamic_lovelace\n",
      "Creating provider local-mode \n",
      "Creating source get_section_length  dynamic_lovelace\n"
     ]
    },
    {
     "data": {
      "text/html": [
       "<div>\n",
       "<style scoped>\n",
       "    .dataframe tbody tr th:only-of-type {\n",
       "        vertical-align: middle;\n",
       "    }\n",
       "\n",
       "    .dataframe tbody tr th {\n",
       "        vertical-align: top;\n",
       "    }\n",
       "\n",
       "    .dataframe thead th {\n",
       "        text-align: right;\n",
       "    }\n",
       "</style>\n",
       "<table border=\"1\" class=\"dataframe\">\n",
       "  <thead>\n",
       "    <tr style=\"text-align: right;\">\n",
       "      <th></th>\n",
       "      <th>Section Number</th>\n",
       "      <th>Content</th>\n",
       "      <th>Section Length</th>\n",
       "    </tr>\n",
       "  </thead>\n",
       "  <tbody>\n",
       "    <tr>\n",
       "      <th>0</th>\n",
       "      <td>0</td>\n",
       "      <td>NBER WORKING PAPER SERIES THE IMPACT OF COVID-...</td>\n",
       "      <td>5229</td>\n",
       "    </tr>\n",
       "    <tr>\n",
       "      <th>1</th>\n",
       "      <td>1</td>\n",
       "      <td>Most major industries faced large drops in the...</td>\n",
       "      <td>7336</td>\n",
       "    </tr>\n",
       "    <tr>\n",
       "      <th>2</th>\n",
       "      <td>2</td>\n",
       "      <td>unprecedented . Conditioning on or more hours ...</td>\n",
       "      <td>7121</td>\n",
       "    </tr>\n",
       "    <tr>\n",
       "      <th>3</th>\n",
       "      <td>3</td>\n",
       "      <td>Latinx business owners drops from percent to p...</td>\n",
       "      <td>5635</td>\n",
       "    </tr>\n",
       "    <tr>\n",
       "      <th>4</th>\n",
       "      <td>4</td>\n",
       "      <td>References Alexander W. Bartik , Marianne Bert...</td>\n",
       "      <td>3803</td>\n",
       "    </tr>\n",
       "  </tbody>\n",
       "</table>\n",
       "</div>"
      ],
      "text/plain": [
       "   Section Number                                            Content  \\\n",
       "0               0  NBER WORKING PAPER SERIES THE IMPACT OF COVID-...   \n",
       "1               1  Most major industries faced large drops in the...   \n",
       "2               2  unprecedented . Conditioning on or more hours ...   \n",
       "3               3  Latinx business owners drops from percent to p...   \n",
       "4               4  References Alexander W. Bartik , Marianne Bert...   \n",
       "\n",
       "   Section Length  \n",
       "0            5229  \n",
       "1            7336  \n",
       "2            7121  \n",
       "3            5635  \n",
       "4            3803  "
      ]
     },
     "execution_count": 10,
     "metadata": {},
     "output_type": "execute_result"
    }
   ],
   "source": [
    "full_df = client.dataframe(get_section_length)\n",
    "full_df.head()"
   ]
  },
  {
   "cell_type": "code",
   "execution_count": 11,
   "metadata": {},
   "outputs": [],
   "source": [
    "@local.df_transformation(inputs=[get_section_length])\n",
    "def vectorize_comments(full_df):\n",
    "    from sentence_transformers import SentenceTransformer\n",
    "\n",
    "    model = SentenceTransformer(\"all-MiniLM-L6-v2\")\n",
    "    embeddings = model.encode(full_df[\"Text\"].tolist())\n",
    "    full_df[\"Vector\"] = embeddings.tolist()\n",
    "    \n",
    "    return full_df"
   ]
  },
  {
   "cell_type": "code",
   "execution_count": null,
   "metadata": {},
   "outputs": [],
   "source": [
    "\"\"\"#define feature set and label\n",
    "@ff.entity\n",
    "class User:\n",
    "    avg_transactions = ff.Feature(\n",
    "        average_user_transaction[[\"CustomerID\", \"TransactionAmount\"]], # We can optionally include the `timestamp_column` \"Timestamp\" here\n",
    "        variant=\"quickstart\",\n",
    "        type=ff.Float32,\n",
    "        inference_store=local,\n",
    "    )\n",
    "    fraudulent = ff.Label(\n",
    "        transactions[[\"CustomerID\", \"IsFraud\"]], variant=\"quickstart\", type=ff.Bool\n",
    "    )\"\"\""
   ]
  },
  {
   "cell_type": "code",
   "execution_count": null,
   "metadata": {},
   "outputs": [],
   "source": [
    "\"\"\"#define training set\n",
    "ff.register_training_set(\n",
    "    \"fraud_training\", \"quickstart\",\n",
    "    label=(\"fraudulent\", \"quickstart\"),\n",
    "    features=[(\"avg_transactions\", \"quickstart\")],\n",
    ")\"\"\""
   ]
  },
  {
   "cell_type": "code",
   "execution_count": 12,
   "metadata": {},
   "outputs": [],
   "source": [
    "PINECONE_API_KEY = \"4628339c-b376-4efc-8190-fd52198e3e9b\"\n",
    "PINECONE_ENVIRONMENT = 'us-west1-gcp-free'\n",
    "PINECONE_PROJECT_ID = 'e269605'\n",
    "\n",
    "pinecone = ff.register_pinecone(\n",
    "    name=\"pinecone\",\n",
    "    project_id = PINECONE_PROJECT_ID,\n",
    "    environment = PINECONE_ENVIRONMENT,\n",
    "    api_key = PINECONE_API_KEY\n",
    ")"
   ]
  },
  {
   "cell_type": "code",
   "execution_count": 13,
   "metadata": {},
   "outputs": [
    {
     "name": "stdout",
     "output_type": "stream",
     "text": [
      "Applying Run: dynamic_lovelace\n",
      "Creating provider local-mode \n",
      "Creating provider pinecone \n",
      "Creating source vectorize_comments  dynamic_lovelace\n"
     ]
    }
   ],
   "source": [
    "client.apply()"
   ]
  },
  {
   "cell_type": "code",
   "execution_count": 14,
   "metadata": {},
   "outputs": [],
   "source": [
    "@ff.entity\n",
    "class Section:\n",
    "    section_embeddings = ff.Embedding(\n",
    "        vectorize_comments[[\"Section Number\", \"Vector\"]],\n",
    "        dims=100,\n",
    "        vector_db=pinecone,\n",
    "        description=\"Embeddings created from sections of a paper\",\n",
    "        variant=\"v1\"\n",
    "    )\n",
    "    sections = ff.Feature(\n",
    "        get_section_length[[\"Section Number\", \"Content\"]],\n",
    "        type=ff.String,\n",
    "        description=\"Sections and their original content\",\n",
    "        variant=\"v1\"\n",
    "    )"
   ]
  },
  {
   "cell_type": "code",
   "execution_count": 15,
   "metadata": {},
   "outputs": [
    {
     "name": "stdout",
     "output_type": "stream",
     "text": [
      "Applying Run: dynamic_lovelace\n",
      "Creating provider local-mode \n",
      "Creating entity section \n",
      "Creating feature section_embeddings  v1\n",
      "Creating feature sections  v1\n"
     ]
    }
   ],
   "source": [
    "client.apply()"
   ]
  },
  {
   "cell_type": "code",
   "execution_count": null,
   "metadata": {},
   "outputs": [],
   "source": [
    "@ff.ondemand_feature(variant=\"prototype\")\n",
    "def relevant_comments(client, params, entity):\n",
    "    from sentence_transformers import SentenceTransformer\n",
    "\n",
    "    model = SentenceTransformer(\"all-MiniLM-L6-v2\")\n",
    "    search_vector = model.encode(params[\"query\"])\n",
    "    res = client.nearest(\"section_embeddings\", \"v1\", search_vector, k=3)\n",
    "    return res"
   ]
  },
  {
   "cell_type": "code",
   "execution_count": null,
   "metadata": {},
   "outputs": [],
   "source": [
    "query_topic = 'Small Business'"
   ]
  },
  {
   "cell_type": "code",
   "execution_count": null,
   "metadata": {},
   "outputs": [
    {
     "name": "stdout",
     "output_type": "stream",
     "text": [
      "Applying Run: nervous_noyce\n",
      "Creating provider local-mode \n"
     ]
    },
    {
     "name": "stderr",
     "output_type": "stream",
     "text": [
      "\n",
      "\u001b[A"
     ]
    },
    {
     "ename": "ConnectionError",
     "evalue": "HTTPSConnectionPool(host='cdn-lfs.huggingface.co', port=443): Read timed out.",
     "output_type": "error",
     "traceback": [
      "\u001b[1;31m---------------------------------------------------------------------------\u001b[0m",
      "\u001b[1;31mtimeout\u001b[0m                                   Traceback (most recent call last)",
      "File \u001b[1;32m~\\AppData\\Roaming\\Python\\Python39\\site-packages\\urllib3\\response.py:438\u001b[0m, in \u001b[0;36mHTTPResponse._error_catcher\u001b[1;34m(self)\u001b[0m\n\u001b[0;32m    437\u001b[0m \u001b[39mtry\u001b[39;00m:\n\u001b[1;32m--> 438\u001b[0m     \u001b[39myield\u001b[39;00m\n\u001b[0;32m    440\u001b[0m \u001b[39mexcept\u001b[39;00m SocketTimeout:\n\u001b[0;32m    441\u001b[0m     \u001b[39m# FIXME: Ideally we'd like to include the url in the ReadTimeoutError but\u001b[39;00m\n\u001b[0;32m    442\u001b[0m     \u001b[39m# there is yet no clean way to get at it from this context.\u001b[39;00m\n",
      "File \u001b[1;32m~\\AppData\\Roaming\\Python\\Python39\\site-packages\\urllib3\\response.py:519\u001b[0m, in \u001b[0;36mHTTPResponse.read\u001b[1;34m(self, amt, decode_content, cache_content)\u001b[0m\n\u001b[0;32m    518\u001b[0m cache_content \u001b[39m=\u001b[39m \u001b[39mFalse\u001b[39;00m\n\u001b[1;32m--> 519\u001b[0m data \u001b[39m=\u001b[39m \u001b[39mself\u001b[39;49m\u001b[39m.\u001b[39;49m_fp\u001b[39m.\u001b[39;49mread(amt) \u001b[39mif\u001b[39;00m \u001b[39mnot\u001b[39;00m fp_closed \u001b[39melse\u001b[39;00m \u001b[39mb\u001b[39m\u001b[39m\"\u001b[39m\u001b[39m\"\u001b[39m\n\u001b[0;32m    520\u001b[0m \u001b[39mif\u001b[39;00m (\n\u001b[0;32m    521\u001b[0m     amt \u001b[39m!=\u001b[39m \u001b[39m0\u001b[39m \u001b[39mand\u001b[39;00m \u001b[39mnot\u001b[39;00m data\n\u001b[0;32m    522\u001b[0m ):  \u001b[39m# Platform-specific: Buggy versions of Python.\u001b[39;00m\n\u001b[1;32m   (...)\u001b[0m\n\u001b[0;32m    528\u001b[0m     \u001b[39m# not properly close the connection in all cases. There is\u001b[39;00m\n\u001b[0;32m    529\u001b[0m     \u001b[39m# no harm in redundantly calling close.\u001b[39;00m\n",
      "File \u001b[1;32mc:\\Program Files\\Python 3.9\\lib\\http\\client.py:458\u001b[0m, in \u001b[0;36mHTTPResponse.read\u001b[1;34m(self, amt)\u001b[0m\n\u001b[0;32m    457\u001b[0m b \u001b[39m=\u001b[39m \u001b[39mbytearray\u001b[39m(amt)\n\u001b[1;32m--> 458\u001b[0m n \u001b[39m=\u001b[39m \u001b[39mself\u001b[39;49m\u001b[39m.\u001b[39;49mreadinto(b)\n\u001b[0;32m    459\u001b[0m \u001b[39mreturn\u001b[39;00m \u001b[39mmemoryview\u001b[39m(b)[:n]\u001b[39m.\u001b[39mtobytes()\n",
      "File \u001b[1;32mc:\\Program Files\\Python 3.9\\lib\\http\\client.py:502\u001b[0m, in \u001b[0;36mHTTPResponse.readinto\u001b[1;34m(self, b)\u001b[0m\n\u001b[0;32m    499\u001b[0m \u001b[39m# we do not use _safe_read() here because this may be a .will_close\u001b[39;00m\n\u001b[0;32m    500\u001b[0m \u001b[39m# connection, and the user is reading more bytes than will be provided\u001b[39;00m\n\u001b[0;32m    501\u001b[0m \u001b[39m# (for example, reading in 1k chunks)\u001b[39;00m\n\u001b[1;32m--> 502\u001b[0m n \u001b[39m=\u001b[39m \u001b[39mself\u001b[39;49m\u001b[39m.\u001b[39;49mfp\u001b[39m.\u001b[39;49mreadinto(b)\n\u001b[0;32m    503\u001b[0m \u001b[39mif\u001b[39;00m \u001b[39mnot\u001b[39;00m n \u001b[39mand\u001b[39;00m b:\n\u001b[0;32m    504\u001b[0m     \u001b[39m# Ideally, we would raise IncompleteRead if the content-length\u001b[39;00m\n\u001b[0;32m    505\u001b[0m     \u001b[39m# wasn't satisfied, but it might break compatibility.\u001b[39;00m\n",
      "File \u001b[1;32mc:\\Program Files\\Python 3.9\\lib\\socket.py:704\u001b[0m, in \u001b[0;36mSocketIO.readinto\u001b[1;34m(self, b)\u001b[0m\n\u001b[0;32m    703\u001b[0m \u001b[39mtry\u001b[39;00m:\n\u001b[1;32m--> 704\u001b[0m     \u001b[39mreturn\u001b[39;00m \u001b[39mself\u001b[39;49m\u001b[39m.\u001b[39;49m_sock\u001b[39m.\u001b[39;49mrecv_into(b)\n\u001b[0;32m    705\u001b[0m \u001b[39mexcept\u001b[39;00m timeout:\n",
      "File \u001b[1;32mc:\\Program Files\\Python 3.9\\lib\\ssl.py:1241\u001b[0m, in \u001b[0;36mSSLSocket.recv_into\u001b[1;34m(self, buffer, nbytes, flags)\u001b[0m\n\u001b[0;32m   1238\u001b[0m         \u001b[39mraise\u001b[39;00m \u001b[39mValueError\u001b[39;00m(\n\u001b[0;32m   1239\u001b[0m           \u001b[39m\"\u001b[39m\u001b[39mnon-zero flags not allowed in calls to recv_into() on \u001b[39m\u001b[39m%s\u001b[39;00m\u001b[39m\"\u001b[39m \u001b[39m%\u001b[39m\n\u001b[0;32m   1240\u001b[0m           \u001b[39mself\u001b[39m\u001b[39m.\u001b[39m\u001b[39m__class__\u001b[39m)\n\u001b[1;32m-> 1241\u001b[0m     \u001b[39mreturn\u001b[39;00m \u001b[39mself\u001b[39;49m\u001b[39m.\u001b[39;49mread(nbytes, buffer)\n\u001b[0;32m   1242\u001b[0m \u001b[39melse\u001b[39;00m:\n",
      "File \u001b[1;32mc:\\Program Files\\Python 3.9\\lib\\ssl.py:1099\u001b[0m, in \u001b[0;36mSSLSocket.read\u001b[1;34m(self, len, buffer)\u001b[0m\n\u001b[0;32m   1098\u001b[0m \u001b[39mif\u001b[39;00m buffer \u001b[39mis\u001b[39;00m \u001b[39mnot\u001b[39;00m \u001b[39mNone\u001b[39;00m:\n\u001b[1;32m-> 1099\u001b[0m     \u001b[39mreturn\u001b[39;00m \u001b[39mself\u001b[39;49m\u001b[39m.\u001b[39;49m_sslobj\u001b[39m.\u001b[39;49mread(\u001b[39mlen\u001b[39;49m, buffer)\n\u001b[0;32m   1100\u001b[0m \u001b[39melse\u001b[39;00m:\n",
      "\u001b[1;31mtimeout\u001b[0m: The read operation timed out",
      "\nDuring handling of the above exception, another exception occurred:\n",
      "\u001b[1;31mReadTimeoutError\u001b[0m                          Traceback (most recent call last)",
      "File \u001b[1;32m~\\AppData\\Roaming\\Python\\Python39\\site-packages\\requests\\models.py:816\u001b[0m, in \u001b[0;36mResponse.iter_content.<locals>.generate\u001b[1;34m()\u001b[0m\n\u001b[0;32m    815\u001b[0m \u001b[39mtry\u001b[39;00m:\n\u001b[1;32m--> 816\u001b[0m     \u001b[39myield from\u001b[39;00m \u001b[39mself\u001b[39m\u001b[39m.\u001b[39mraw\u001b[39m.\u001b[39mstream(chunk_size, decode_content\u001b[39m=\u001b[39m\u001b[39mTrue\u001b[39;00m)\n\u001b[0;32m    817\u001b[0m \u001b[39mexcept\u001b[39;00m ProtocolError \u001b[39mas\u001b[39;00m e:\n",
      "File \u001b[1;32m~\\AppData\\Roaming\\Python\\Python39\\site-packages\\urllib3\\response.py:576\u001b[0m, in \u001b[0;36mHTTPResponse.stream\u001b[1;34m(self, amt, decode_content)\u001b[0m\n\u001b[0;32m    575\u001b[0m \u001b[39mwhile\u001b[39;00m \u001b[39mnot\u001b[39;00m is_fp_closed(\u001b[39mself\u001b[39m\u001b[39m.\u001b[39m_fp):\n\u001b[1;32m--> 576\u001b[0m     data \u001b[39m=\u001b[39m \u001b[39mself\u001b[39;49m\u001b[39m.\u001b[39;49mread(amt\u001b[39m=\u001b[39;49mamt, decode_content\u001b[39m=\u001b[39;49mdecode_content)\n\u001b[0;32m    578\u001b[0m     \u001b[39mif\u001b[39;00m data:\n",
      "File \u001b[1;32m~\\AppData\\Roaming\\Python\\Python39\\site-packages\\urllib3\\response.py:541\u001b[0m, in \u001b[0;36mHTTPResponse.read\u001b[1;34m(self, amt, decode_content, cache_content)\u001b[0m\n\u001b[0;32m    532\u001b[0m             \u001b[39mif\u001b[39;00m \u001b[39mself\u001b[39m\u001b[39m.\u001b[39menforce_content_length \u001b[39mand\u001b[39;00m \u001b[39mself\u001b[39m\u001b[39m.\u001b[39mlength_remaining \u001b[39mnot\u001b[39;00m \u001b[39min\u001b[39;00m (\n\u001b[0;32m    533\u001b[0m                 \u001b[39m0\u001b[39m,\n\u001b[0;32m    534\u001b[0m                 \u001b[39mNone\u001b[39;00m,\n\u001b[1;32m   (...)\u001b[0m\n\u001b[0;32m    539\u001b[0m                 \u001b[39m# raised during streaming, so all calls with incorrect\u001b[39;00m\n\u001b[0;32m    540\u001b[0m                 \u001b[39m# Content-Length are caught.\u001b[39;00m\n\u001b[1;32m--> 541\u001b[0m                 \u001b[39mraise\u001b[39;00m IncompleteRead(\u001b[39mself\u001b[39m\u001b[39m.\u001b[39m_fp_bytes_read, \u001b[39mself\u001b[39m\u001b[39m.\u001b[39mlength_remaining)\n\u001b[0;32m    543\u001b[0m \u001b[39mif\u001b[39;00m data:\n",
      "File \u001b[1;32mc:\\Program Files\\Python 3.9\\lib\\contextlib.py:135\u001b[0m, in \u001b[0;36m_GeneratorContextManager.__exit__\u001b[1;34m(self, type, value, traceback)\u001b[0m\n\u001b[0;32m    134\u001b[0m \u001b[39mtry\u001b[39;00m:\n\u001b[1;32m--> 135\u001b[0m     \u001b[39mself\u001b[39;49m\u001b[39m.\u001b[39;49mgen\u001b[39m.\u001b[39;49mthrow(\u001b[39mtype\u001b[39;49m, value, traceback)\n\u001b[0;32m    136\u001b[0m \u001b[39mexcept\u001b[39;00m \u001b[39mStopIteration\u001b[39;00m \u001b[39mas\u001b[39;00m exc:\n\u001b[0;32m    137\u001b[0m     \u001b[39m# Suppress StopIteration *unless* it's the same exception that\u001b[39;00m\n\u001b[0;32m    138\u001b[0m     \u001b[39m# was passed to throw().  This prevents a StopIteration\u001b[39;00m\n\u001b[0;32m    139\u001b[0m     \u001b[39m# raised inside the \"with\" statement from being suppressed.\u001b[39;00m\n",
      "File \u001b[1;32m~\\AppData\\Roaming\\Python\\Python39\\site-packages\\urllib3\\response.py:443\u001b[0m, in \u001b[0;36mHTTPResponse._error_catcher\u001b[1;34m(self)\u001b[0m\n\u001b[0;32m    440\u001b[0m \u001b[39mexcept\u001b[39;00m SocketTimeout:\n\u001b[0;32m    441\u001b[0m     \u001b[39m# FIXME: Ideally we'd like to include the url in the ReadTimeoutError but\u001b[39;00m\n\u001b[0;32m    442\u001b[0m     \u001b[39m# there is yet no clean way to get at it from this context.\u001b[39;00m\n\u001b[1;32m--> 443\u001b[0m     \u001b[39mraise\u001b[39;00m ReadTimeoutError(\u001b[39mself\u001b[39m\u001b[39m.\u001b[39m_pool, \u001b[39mNone\u001b[39;00m, \u001b[39m\"\u001b[39m\u001b[39mRead timed out.\u001b[39m\u001b[39m\"\u001b[39m)\n\u001b[0;32m    445\u001b[0m \u001b[39mexcept\u001b[39;00m BaseSSLError \u001b[39mas\u001b[39;00m e:\n\u001b[0;32m    446\u001b[0m     \u001b[39m# FIXME: Is there a better way to differentiate between SSLErrors?\u001b[39;00m\n",
      "\u001b[1;31mReadTimeoutError\u001b[0m: HTTPSConnectionPool(host='cdn-lfs.huggingface.co', port=443): Read timed out.",
      "\nDuring handling of the above exception, another exception occurred:\n",
      "\u001b[1;31mConnectionError\u001b[0m                           Traceback (most recent call last)",
      "\u001b[1;32mc:\\Users\\email\\OneDrive\\Documents\\calhacksai\\CalHacksAI2023\\featureform_proj.ipynb Cell 19\u001b[0m in \u001b[0;36m<cell line: 2>\u001b[1;34m()\u001b[0m\n\u001b[0;32m      <a href='vscode-notebook-cell:/c%3A/Users/email/OneDrive/Documents/calhacksai/CalHacksAI2023/featureform_proj.ipynb#X50sZmlsZQ%3D%3D?line=0'>1</a>\u001b[0m client\u001b[39m.\u001b[39mapply()\n\u001b[1;32m----> <a href='vscode-notebook-cell:/c%3A/Users/email/OneDrive/Documents/calhacksai/CalHacksAI2023/featureform_proj.ipynb#X50sZmlsZQ%3D%3D?line=1'>2</a>\u001b[0m client\u001b[39m.\u001b[39;49mfeatures([(\u001b[39m\"\u001b[39;49m\u001b[39mrelevant_comments\u001b[39;49m\u001b[39m\"\u001b[39;49m, \u001b[39m\"\u001b[39;49m\u001b[39mprototype\u001b[39;49m\u001b[39m\"\u001b[39;49m)], {}, params\u001b[39m=\u001b[39;49m{\u001b[39m\"\u001b[39;49m\u001b[39mquery\u001b[39;49m\u001b[39m\"\u001b[39;49m: \u001b[39m\"\u001b[39;49m\u001b[39menterprise MLOps\u001b[39;49m\u001b[39m\"\u001b[39;49m})\n",
      "File \u001b[1;32m~\\AppData\\Roaming\\Python\\Python39\\site-packages\\featureform\\serving.py:140\u001b[0m, in \u001b[0;36mServingClient.features\u001b[1;34m(self, features, entities, model, params)\u001b[0m\n\u001b[0;32m    124\u001b[0m \u001b[39m\u001b[39m\u001b[39m\"\"\"Returns the feature values for the specified entities.\u001b[39;00m\n\u001b[0;32m    125\u001b[0m \n\u001b[0;32m    126\u001b[0m \u001b[39m**Examples**:\u001b[39;00m\n\u001b[1;32m   (...)\u001b[0m\n\u001b[0;32m    137\u001b[0m \u001b[39m    features (numpy.Array): An Numpy array of feature values in the order given by the inputs\u001b[39;00m\n\u001b[0;32m    138\u001b[0m \u001b[39m\"\"\"\u001b[39;00m\n\u001b[0;32m    139\u001b[0m features \u001b[39m=\u001b[39m check_feature_type(features)\n\u001b[1;32m--> 140\u001b[0m \u001b[39mreturn\u001b[39;00m \u001b[39mself\u001b[39;49m\u001b[39m.\u001b[39;49mimpl\u001b[39m.\u001b[39;49mfeatures(features, entities, model, params)\n",
      "File \u001b[1;32m~\\AppData\\Roaming\\Python\\Python39\\site-packages\\featureform\\serving.py:596\u001b[0m, in \u001b[0;36mLocalClientImpl.features\u001b[1;34m(self, feature_variant_list, entities, model, params)\u001b[0m\n\u001b[0;32m    594\u001b[0m entity_name \u001b[39m=\u001b[39m \u001b[39mlist\u001b[39m(entities\u001b[39m.\u001b[39mkeys())[\u001b[39m0\u001b[39m] \u001b[39mif\u001b[39;00m \u001b[39mlen\u001b[39m(entities) \u001b[39m>\u001b[39m \u001b[39m0\u001b[39m \u001b[39melse\u001b[39;00m \u001b[39m\"\u001b[39m\u001b[39m\"\u001b[39m\n\u001b[0;32m    595\u001b[0m entity_value \u001b[39m=\u001b[39m entities[entity_name] \u001b[39mif\u001b[39;00m \u001b[39mlen\u001b[39m(entities) \u001b[39m>\u001b[39m \u001b[39m0\u001b[39m \u001b[39melse\u001b[39;00m \u001b[39m\"\u001b[39m\u001b[39m\"\u001b[39m\n\u001b[1;32m--> 596\u001b[0m features \u001b[39m=\u001b[39m \u001b[39mself\u001b[39;49m\u001b[39m.\u001b[39;49madd_features_to_list(\n\u001b[0;32m    597\u001b[0m     feature_variant_list, entity_name, entity_value\n\u001b[0;32m    598\u001b[0m )\n\u001b[0;32m    599\u001b[0m \u001b[39m# all_features_df = list_to_combined_df(all_features_list, entity_name)\u001b[39;00m\n\u001b[0;32m    600\u001b[0m \u001b[39m# features = get_features_for_entity(entity_name, entity_value, all_features_df)\u001b[39;00m\n\u001b[0;32m    602\u001b[0m \u001b[39mif\u001b[39;00m model \u001b[39mis\u001b[39;00m \u001b[39mnot\u001b[39;00m \u001b[39mNone\u001b[39;00m:\n",
      "File \u001b[1;32m~\\AppData\\Roaming\\Python\\Python39\\site-packages\\featureform\\serving.py:643\u001b[0m, in \u001b[0;36mLocalClientImpl.add_features_to_list\u001b[1;34m(self, feature_variant_list, entity_name, entity_value)\u001b[0m\n\u001b[0;32m    640\u001b[0m f_mode \u001b[39m=\u001b[39m \u001b[39mself\u001b[39m\u001b[39m.\u001b[39mdb\u001b[39m.\u001b[39mget_feature_variant_mode(f_name, f_variant)\n\u001b[0;32m    642\u001b[0m \u001b[39mif\u001b[39;00m f_mode \u001b[39m==\u001b[39m ComputationMode\u001b[39m.\u001b[39mCLIENT_COMPUTED:\n\u001b[1;32m--> 643\u001b[0m     output_value \u001b[39m=\u001b[39m \u001b[39mself\u001b[39;49m\u001b[39m.\u001b[39;49mcalculate_ondemand_feature(f_name, f_variant)\n\u001b[0;32m    644\u001b[0m     feature_list\u001b[39m.\u001b[39mappend(output_value)\n\u001b[0;32m    645\u001b[0m \u001b[39melse\u001b[39;00m:\n",
      "File \u001b[1;32m~\\AppData\\Roaming\\Python\\Python39\\site-packages\\featureform\\serving.py:632\u001b[0m, in \u001b[0;36mLocalClientImpl.calculate_ondemand_feature\u001b[1;34m(self, f_name, f_variant)\u001b[0m\n\u001b[0;32m    630\u001b[0m code \u001b[39m=\u001b[39m dill\u001b[39m.\u001b[39mloads(\u001b[39mbytearray\u001b[39m(query))\n\u001b[0;32m    631\u001b[0m func \u001b[39m=\u001b[39m types\u001b[39m.\u001b[39mFunctionType(code, \u001b[39mglobals\u001b[39m(), \u001b[39m\"\u001b[39m\u001b[39mtransformation\u001b[39m\u001b[39m\"\u001b[39m)\n\u001b[1;32m--> 632\u001b[0m \u001b[39mreturn\u001b[39;00m func(\u001b[39mself\u001b[39;49m, \u001b[39mself\u001b[39;49m\u001b[39m.\u001b[39;49mparams, \u001b[39mself\u001b[39;49m\u001b[39m.\u001b[39;49mentities)\n",
      "File \u001b[1;32m~\\AppData\\Local\\Temp\\ipykernel_11748\\3493541674.py:5\u001b[0m, in \u001b[0;36mrelevant_comments\u001b[1;34m(client, params, entity)\u001b[0m\n\u001b[0;32m      1\u001b[0m \u001b[39m# This Source Code Form is subject to the terms of the Mozilla Public\u001b[39;00m\n\u001b[0;32m      2\u001b[0m \u001b[39m# License, v. 2.0. If a copy of the MPL was not distributed with this\u001b[39;00m\n\u001b[0;32m      3\u001b[0m \u001b[39m# file, You can obtain one at https://mozilla.org/MPL/2.0/.\u001b[39;00m\n\u001b[1;32m----> 5\u001b[0m \u001b[39mimport\u001b[39;00m \u001b[39mbase64\u001b[39;00m\n\u001b[0;32m      6\u001b[0m \u001b[39mimport\u001b[39;00m \u001b[39minspect\u001b[39;00m\n\u001b[0;32m      7\u001b[0m \u001b[39mimport\u001b[39;00m \u001b[39mjson\u001b[39;00m\n",
      "File \u001b[1;32m~\\AppData\\Roaming\\Python\\Python39\\site-packages\\sentence_transformers\\SentenceTransformer.py:87\u001b[0m, in \u001b[0;36mSentenceTransformer.__init__\u001b[1;34m(self, model_name_or_path, modules, device, cache_folder, use_auth_token)\u001b[0m\n\u001b[0;32m     83\u001b[0m     model_path \u001b[39m=\u001b[39m os\u001b[39m.\u001b[39mpath\u001b[39m.\u001b[39mjoin(cache_folder, model_name_or_path\u001b[39m.\u001b[39mreplace(\u001b[39m\"\u001b[39m\u001b[39m/\u001b[39m\u001b[39m\"\u001b[39m, \u001b[39m\"\u001b[39m\u001b[39m_\u001b[39m\u001b[39m\"\u001b[39m))\n\u001b[0;32m     85\u001b[0m     \u001b[39mif\u001b[39;00m \u001b[39mnot\u001b[39;00m os\u001b[39m.\u001b[39mpath\u001b[39m.\u001b[39mexists(os\u001b[39m.\u001b[39mpath\u001b[39m.\u001b[39mjoin(model_path, \u001b[39m'\u001b[39m\u001b[39mmodules.json\u001b[39m\u001b[39m'\u001b[39m)):\n\u001b[0;32m     86\u001b[0m         \u001b[39m# Download from hub with caching\u001b[39;00m\n\u001b[1;32m---> 87\u001b[0m         snapshot_download(model_name_or_path,\n\u001b[0;32m     88\u001b[0m                             cache_dir\u001b[39m=\u001b[39;49mcache_folder,\n\u001b[0;32m     89\u001b[0m                             library_name\u001b[39m=\u001b[39;49m\u001b[39m'\u001b[39;49m\u001b[39msentence-transformers\u001b[39;49m\u001b[39m'\u001b[39;49m,\n\u001b[0;32m     90\u001b[0m                             library_version\u001b[39m=\u001b[39;49m__version__,\n\u001b[0;32m     91\u001b[0m                             ignore_files\u001b[39m=\u001b[39;49m[\u001b[39m'\u001b[39;49m\u001b[39mflax_model.msgpack\u001b[39;49m\u001b[39m'\u001b[39;49m, \u001b[39m'\u001b[39;49m\u001b[39mrust_model.ot\u001b[39;49m\u001b[39m'\u001b[39;49m, \u001b[39m'\u001b[39;49m\u001b[39mtf_model.h5\u001b[39;49m\u001b[39m'\u001b[39;49m],\n\u001b[0;32m     92\u001b[0m                             use_auth_token\u001b[39m=\u001b[39;49muse_auth_token)\n\u001b[0;32m     94\u001b[0m \u001b[39mif\u001b[39;00m os\u001b[39m.\u001b[39mpath\u001b[39m.\u001b[39mexists(os\u001b[39m.\u001b[39mpath\u001b[39m.\u001b[39mjoin(model_path, \u001b[39m'\u001b[39m\u001b[39mmodules.json\u001b[39m\u001b[39m'\u001b[39m)):    \u001b[39m#Load as SentenceTransformer model\u001b[39;00m\n\u001b[0;32m     95\u001b[0m     modules \u001b[39m=\u001b[39m \u001b[39mself\u001b[39m\u001b[39m.\u001b[39m_load_sbert_model(model_path)\n",
      "File \u001b[1;32m~\\AppData\\Roaming\\Python\\Python39\\site-packages\\sentence_transformers\\util.py:491\u001b[0m, in \u001b[0;36msnapshot_download\u001b[1;34m(repo_id, revision, cache_dir, library_name, library_version, user_agent, ignore_files, use_auth_token)\u001b[0m\n\u001b[0;32m    486\u001b[0m \u001b[39mif\u001b[39;00m version\u001b[39m.\u001b[39mparse(huggingface_hub\u001b[39m.\u001b[39m__version__) \u001b[39m>\u001b[39m\u001b[39m=\u001b[39m version\u001b[39m.\u001b[39mparse(\u001b[39m\"\u001b[39m\u001b[39m0.8.1\u001b[39m\u001b[39m\"\u001b[39m):\n\u001b[0;32m    487\u001b[0m     \u001b[39m# huggingface_hub v0.8.1 introduces a new cache layout. We sill use a manual layout\u001b[39;00m\n\u001b[0;32m    488\u001b[0m     \u001b[39m# And need to pass legacy_cache_layout=True to avoid that a warning will be printed\u001b[39;00m\n\u001b[0;32m    489\u001b[0m     cached_download_args[\u001b[39m'\u001b[39m\u001b[39mlegacy_cache_layout\u001b[39m\u001b[39m'\u001b[39m] \u001b[39m=\u001b[39m \u001b[39mTrue\u001b[39;00m\n\u001b[1;32m--> 491\u001b[0m path \u001b[39m=\u001b[39m cached_download(\u001b[39m*\u001b[39m\u001b[39m*\u001b[39mcached_download_args)\n\u001b[0;32m    493\u001b[0m \u001b[39mif\u001b[39;00m os\u001b[39m.\u001b[39mpath\u001b[39m.\u001b[39mexists(path \u001b[39m+\u001b[39m \u001b[39m\"\u001b[39m\u001b[39m.lock\u001b[39m\u001b[39m\"\u001b[39m):\n\u001b[0;32m    494\u001b[0m     os\u001b[39m.\u001b[39mremove(path \u001b[39m+\u001b[39m \u001b[39m\"\u001b[39m\u001b[39m.lock\u001b[39m\u001b[39m\"\u001b[39m)\n",
      "File \u001b[1;32m~\\AppData\\Roaming\\Python\\Python39\\site-packages\\huggingface_hub\\utils\\_validators.py:118\u001b[0m, in \u001b[0;36mvalidate_hf_hub_args.<locals>._inner_fn\u001b[1;34m(*args, **kwargs)\u001b[0m\n\u001b[0;32m    115\u001b[0m \u001b[39mif\u001b[39;00m check_use_auth_token:\n\u001b[0;32m    116\u001b[0m     kwargs \u001b[39m=\u001b[39m smoothly_deprecate_use_auth_token(fn_name\u001b[39m=\u001b[39mfn\u001b[39m.\u001b[39m\u001b[39m__name__\u001b[39m, has_token\u001b[39m=\u001b[39mhas_token, kwargs\u001b[39m=\u001b[39mkwargs)\n\u001b[1;32m--> 118\u001b[0m \u001b[39mreturn\u001b[39;00m fn(\u001b[39m*\u001b[39margs, \u001b[39m*\u001b[39m\u001b[39m*\u001b[39mkwargs)\n",
      "File \u001b[1;32m~\\AppData\\Roaming\\Python\\Python39\\site-packages\\huggingface_hub\\file_download.py:800\u001b[0m, in \u001b[0;36mcached_download\u001b[1;34m(url, library_name, library_version, cache_dir, user_agent, force_download, force_filename, proxies, etag_timeout, resume_download, token, local_files_only, legacy_cache_layout)\u001b[0m\n\u001b[0;32m    797\u001b[0m \u001b[39mwith\u001b[39;00m temp_file_manager() \u001b[39mas\u001b[39;00m temp_file:\n\u001b[0;32m    798\u001b[0m     logger\u001b[39m.\u001b[39minfo(\u001b[39m\"\u001b[39m\u001b[39mdownloading \u001b[39m\u001b[39m%s\u001b[39;00m\u001b[39m to \u001b[39m\u001b[39m%s\u001b[39;00m\u001b[39m\"\u001b[39m, url, temp_file\u001b[39m.\u001b[39mname)\n\u001b[1;32m--> 800\u001b[0m     http_get(\n\u001b[0;32m    801\u001b[0m         url_to_download,\n\u001b[0;32m    802\u001b[0m         temp_file,\n\u001b[0;32m    803\u001b[0m         proxies\u001b[39m=\u001b[39;49mproxies,\n\u001b[0;32m    804\u001b[0m         resume_size\u001b[39m=\u001b[39;49mresume_size,\n\u001b[0;32m    805\u001b[0m         headers\u001b[39m=\u001b[39;49mheaders,\n\u001b[0;32m    806\u001b[0m         expected_size\u001b[39m=\u001b[39;49mexpected_size,\n\u001b[0;32m    807\u001b[0m     )\n\u001b[0;32m    809\u001b[0m logger\u001b[39m.\u001b[39minfo(\u001b[39m\"\u001b[39m\u001b[39mstoring \u001b[39m\u001b[39m%s\u001b[39;00m\u001b[39m in cache at \u001b[39m\u001b[39m%s\u001b[39;00m\u001b[39m\"\u001b[39m, url, cache_path)\n\u001b[0;32m    810\u001b[0m _chmod_and_replace(temp_file\u001b[39m.\u001b[39mname, cache_path)\n",
      "File \u001b[1;32m~\\AppData\\Roaming\\Python\\Python39\\site-packages\\huggingface_hub\\file_download.py:541\u001b[0m, in \u001b[0;36mhttp_get\u001b[1;34m(url, temp_file, proxies, resume_size, headers, timeout, max_retries, expected_size)\u001b[0m\n\u001b[0;32m    531\u001b[0m     displayed_name \u001b[39m=\u001b[39m \u001b[39mf\u001b[39m\u001b[39m\"\u001b[39m\u001b[39m(…)\u001b[39m\u001b[39m{\u001b[39;00mdisplayed_name[\u001b[39m-\u001b[39m\u001b[39m20\u001b[39m:]\u001b[39m}\u001b[39;00m\u001b[39m\"\u001b[39m\n\u001b[0;32m    533\u001b[0m progress \u001b[39m=\u001b[39m tqdm(\n\u001b[0;32m    534\u001b[0m     unit\u001b[39m=\u001b[39m\u001b[39m\"\u001b[39m\u001b[39mB\u001b[39m\u001b[39m\"\u001b[39m,\n\u001b[0;32m    535\u001b[0m     unit_scale\u001b[39m=\u001b[39m\u001b[39mTrue\u001b[39;00m,\n\u001b[1;32m   (...)\u001b[0m\n\u001b[0;32m    539\u001b[0m     disable\u001b[39m=\u001b[39m\u001b[39mbool\u001b[39m(logger\u001b[39m.\u001b[39mgetEffectiveLevel() \u001b[39m==\u001b[39m logging\u001b[39m.\u001b[39mNOTSET),\n\u001b[0;32m    540\u001b[0m )\n\u001b[1;32m--> 541\u001b[0m \u001b[39mfor\u001b[39;00m chunk \u001b[39min\u001b[39;00m r\u001b[39m.\u001b[39miter_content(chunk_size\u001b[39m=\u001b[39m\u001b[39m10\u001b[39m \u001b[39m*\u001b[39m \u001b[39m1024\u001b[39m \u001b[39m*\u001b[39m \u001b[39m1024\u001b[39m):\n\u001b[0;32m    542\u001b[0m     \u001b[39mif\u001b[39;00m chunk:  \u001b[39m# filter out keep-alive new chunks\u001b[39;00m\n\u001b[0;32m    543\u001b[0m         progress\u001b[39m.\u001b[39mupdate(\u001b[39mlen\u001b[39m(chunk))\n",
      "File \u001b[1;32m~\\AppData\\Roaming\\Python\\Python39\\site-packages\\requests\\models.py:822\u001b[0m, in \u001b[0;36mResponse.iter_content.<locals>.generate\u001b[1;34m()\u001b[0m\n\u001b[0;32m    820\u001b[0m     \u001b[39mraise\u001b[39;00m ContentDecodingError(e)\n\u001b[0;32m    821\u001b[0m \u001b[39mexcept\u001b[39;00m ReadTimeoutError \u001b[39mas\u001b[39;00m e:\n\u001b[1;32m--> 822\u001b[0m     \u001b[39mraise\u001b[39;00m \u001b[39mConnectionError\u001b[39;00m(e)\n\u001b[0;32m    823\u001b[0m \u001b[39mexcept\u001b[39;00m SSLError \u001b[39mas\u001b[39;00m e:\n\u001b[0;32m    824\u001b[0m     \u001b[39mraise\u001b[39;00m RequestsSSLError(e)\n",
      "\u001b[1;31mConnectionError\u001b[0m: HTTPSConnectionPool(host='cdn-lfs.huggingface.co', port=443): Read timed out."
     ]
    }
   ],
   "source": [
    "client.apply()\n",
    "client.features([(\"relevant_comments\", \"calhacks\")], {}, params={\"query\": query_topic})"
   ]
  },
  {
   "cell_type": "code",
   "execution_count": null,
   "metadata": {},
   "outputs": [],
   "source": [
    "@ff.ondemand_feature(variant=\"prototype2\")\n",
    "def contextualized_prompt(client, params, entity):\n",
    "    pks = client.features([(\"relevant_comments\", \"prototype\")], {}, params=params)\n",
    "    prompt = \"Use the following snippets from the paper to answer the following question\\n\"\n",
    "    for pk in pks[0]:\n",
    "        prompt += \"```\"\n",
    "        prompt += client.features([(\"sections\", \"v1\")], {\"section\": pk})[0]\n",
    "        prompt += \"```\\n\"\n",
    "    prompt += \"Question: \"\n",
    "    prompt += params[\"query\"]\n",
    "    prompt += \"?\"\n",
    "    return prompt"
   ]
  },
  {
   "cell_type": "code",
   "execution_count": null,
   "metadata": {},
   "outputs": [
    {
     "name": "stdout",
     "output_type": "stream",
     "text": [
      "Applying Run: nervous_noyce\n",
      "Creating provider local-mode \n",
      "Creating ondemand_feature contextualized_prompt  prototype2\n"
     ]
    },
    {
     "ename": "FeatureNotFound",
     "evalue": "Feature 'relevant_comments:prototype2' not found. Verify that the feature is registered.",
     "output_type": "error",
     "traceback": [
      "\u001b[1;31m---------------------------------------------------------------------------\u001b[0m",
      "\u001b[1;31mFeatureNotFound\u001b[0m                           Traceback (most recent call last)",
      "\u001b[1;32mc:\\Users\\email\\OneDrive\\Documents\\calhacksai\\CalHacksAI2023\\featureform_proj.ipynb Cell 21\u001b[0m in \u001b[0;36m<cell line: 2>\u001b[1;34m()\u001b[0m\n\u001b[0;32m      <a href='vscode-notebook-cell:/c%3A/Users/email/OneDrive/Documents/calhacksai/CalHacksAI2023/featureform_proj.ipynb#X51sZmlsZQ%3D%3D?line=0'>1</a>\u001b[0m client\u001b[39m.\u001b[39mapply()\n\u001b[1;32m----> <a href='vscode-notebook-cell:/c%3A/Users/email/OneDrive/Documents/calhacksai/CalHacksAI2023/featureform_proj.ipynb#X51sZmlsZQ%3D%3D?line=1'>2</a>\u001b[0m client\u001b[39m.\u001b[39;49mfeatures([(\u001b[39m\"\u001b[39;49m\u001b[39mcontextualized_prompt\u001b[39;49m\u001b[39m\"\u001b[39;49m, \u001b[39m\"\u001b[39;49m\u001b[39mprototype2\u001b[39;49m\u001b[39m\"\u001b[39;49m)], {}, params\u001b[39m=\u001b[39;49m{\u001b[39m\"\u001b[39;49m\u001b[39mquery\u001b[39;49m\u001b[39m\"\u001b[39;49m: \u001b[39m\"\u001b[39;49m\u001b[39menterprise MLOps\u001b[39;49m\u001b[39m\"\u001b[39;49m})\n",
      "File \u001b[1;32m~\\AppData\\Roaming\\Python\\Python39\\site-packages\\featureform\\serving.py:140\u001b[0m, in \u001b[0;36mServingClient.features\u001b[1;34m(self, features, entities, model, params)\u001b[0m\n\u001b[0;32m    124\u001b[0m \u001b[39m\u001b[39m\u001b[39m\"\"\"Returns the feature values for the specified entities.\u001b[39;00m\n\u001b[0;32m    125\u001b[0m \n\u001b[0;32m    126\u001b[0m \u001b[39m**Examples**:\u001b[39;00m\n\u001b[1;32m   (...)\u001b[0m\n\u001b[0;32m    137\u001b[0m \u001b[39m    features (numpy.Array): An Numpy array of feature values in the order given by the inputs\u001b[39;00m\n\u001b[0;32m    138\u001b[0m \u001b[39m\"\"\"\u001b[39;00m\n\u001b[0;32m    139\u001b[0m features \u001b[39m=\u001b[39m check_feature_type(features)\n\u001b[1;32m--> 140\u001b[0m \u001b[39mreturn\u001b[39;00m \u001b[39mself\u001b[39;49m\u001b[39m.\u001b[39;49mimpl\u001b[39m.\u001b[39;49mfeatures(features, entities, model, params)\n",
      "File \u001b[1;32m~\\AppData\\Roaming\\Python\\Python39\\site-packages\\featureform\\serving.py:596\u001b[0m, in \u001b[0;36mLocalClientImpl.features\u001b[1;34m(self, feature_variant_list, entities, model, params)\u001b[0m\n\u001b[0;32m    594\u001b[0m entity_name \u001b[39m=\u001b[39m \u001b[39mlist\u001b[39m(entities\u001b[39m.\u001b[39mkeys())[\u001b[39m0\u001b[39m] \u001b[39mif\u001b[39;00m \u001b[39mlen\u001b[39m(entities) \u001b[39m>\u001b[39m \u001b[39m0\u001b[39m \u001b[39melse\u001b[39;00m \u001b[39m\"\u001b[39m\u001b[39m\"\u001b[39m\n\u001b[0;32m    595\u001b[0m entity_value \u001b[39m=\u001b[39m entities[entity_name] \u001b[39mif\u001b[39;00m \u001b[39mlen\u001b[39m(entities) \u001b[39m>\u001b[39m \u001b[39m0\u001b[39m \u001b[39melse\u001b[39;00m \u001b[39m\"\u001b[39m\u001b[39m\"\u001b[39m\n\u001b[1;32m--> 596\u001b[0m features \u001b[39m=\u001b[39m \u001b[39mself\u001b[39;49m\u001b[39m.\u001b[39;49madd_features_to_list(\n\u001b[0;32m    597\u001b[0m     feature_variant_list, entity_name, entity_value\n\u001b[0;32m    598\u001b[0m )\n\u001b[0;32m    599\u001b[0m \u001b[39m# all_features_df = list_to_combined_df(all_features_list, entity_name)\u001b[39;00m\n\u001b[0;32m    600\u001b[0m \u001b[39m# features = get_features_for_entity(entity_name, entity_value, all_features_df)\u001b[39;00m\n\u001b[0;32m    602\u001b[0m \u001b[39mif\u001b[39;00m model \u001b[39mis\u001b[39;00m \u001b[39mnot\u001b[39;00m \u001b[39mNone\u001b[39;00m:\n",
      "File \u001b[1;32m~\\AppData\\Roaming\\Python\\Python39\\site-packages\\featureform\\serving.py:643\u001b[0m, in \u001b[0;36mLocalClientImpl.add_features_to_list\u001b[1;34m(self, feature_variant_list, entity_name, entity_value)\u001b[0m\n\u001b[0;32m    640\u001b[0m f_mode \u001b[39m=\u001b[39m \u001b[39mself\u001b[39m\u001b[39m.\u001b[39mdb\u001b[39m.\u001b[39mget_feature_variant_mode(f_name, f_variant)\n\u001b[0;32m    642\u001b[0m \u001b[39mif\u001b[39;00m f_mode \u001b[39m==\u001b[39m ComputationMode\u001b[39m.\u001b[39mCLIENT_COMPUTED:\n\u001b[1;32m--> 643\u001b[0m     output_value \u001b[39m=\u001b[39m \u001b[39mself\u001b[39;49m\u001b[39m.\u001b[39;49mcalculate_ondemand_feature(f_name, f_variant)\n\u001b[0;32m    644\u001b[0m     feature_list\u001b[39m.\u001b[39mappend(output_value)\n\u001b[0;32m    645\u001b[0m \u001b[39melse\u001b[39;00m:\n",
      "File \u001b[1;32m~\\AppData\\Roaming\\Python\\Python39\\site-packages\\featureform\\serving.py:632\u001b[0m, in \u001b[0;36mLocalClientImpl.calculate_ondemand_feature\u001b[1;34m(self, f_name, f_variant)\u001b[0m\n\u001b[0;32m    630\u001b[0m code \u001b[39m=\u001b[39m dill\u001b[39m.\u001b[39mloads(\u001b[39mbytearray\u001b[39m(query))\n\u001b[0;32m    631\u001b[0m func \u001b[39m=\u001b[39m types\u001b[39m.\u001b[39mFunctionType(code, \u001b[39mglobals\u001b[39m(), \u001b[39m\"\u001b[39m\u001b[39mtransformation\u001b[39m\u001b[39m\"\u001b[39m)\n\u001b[1;32m--> 632\u001b[0m \u001b[39mreturn\u001b[39;00m func(\u001b[39mself\u001b[39;49m, \u001b[39mself\u001b[39;49m\u001b[39m.\u001b[39;49mparams, \u001b[39mself\u001b[39;49m\u001b[39m.\u001b[39;49mentities)\n",
      "\u001b[1;32mc:\\Users\\email\\OneDrive\\Documents\\calhacksai\\CalHacksAI2023\\featureform_proj.ipynb Cell 21\u001b[0m in \u001b[0;36mcontextualized_prompt\u001b[1;34m(client, params, entity)\u001b[0m\n\u001b[0;32m      <a href='vscode-notebook-cell:/c%3A/Users/email/OneDrive/Documents/calhacksai/CalHacksAI2023/featureform_proj.ipynb#X51sZmlsZQ%3D%3D?line=0'>1</a>\u001b[0m \u001b[39m@ff\u001b[39m\u001b[39m.\u001b[39mondemand_feature(variant\u001b[39m=\u001b[39m\u001b[39m\"\u001b[39m\u001b[39mprototype2\u001b[39m\u001b[39m\"\u001b[39m)\n\u001b[0;32m      <a href='vscode-notebook-cell:/c%3A/Users/email/OneDrive/Documents/calhacksai/CalHacksAI2023/featureform_proj.ipynb#X51sZmlsZQ%3D%3D?line=1'>2</a>\u001b[0m \u001b[39mdef\u001b[39;00m \u001b[39mcontextualized_prompt\u001b[39m(client, params, entity):\n\u001b[1;32m----> <a href='vscode-notebook-cell:/c%3A/Users/email/OneDrive/Documents/calhacksai/CalHacksAI2023/featureform_proj.ipynb#X51sZmlsZQ%3D%3D?line=2'>3</a>\u001b[0m     pks \u001b[39m=\u001b[39m client\u001b[39m.\u001b[39;49mfeatures([(\u001b[39m\"\u001b[39;49m\u001b[39mrelevant_comments\u001b[39;49m\u001b[39m\"\u001b[39;49m, \u001b[39m\"\u001b[39;49m\u001b[39mprototype2\u001b[39;49m\u001b[39m\"\u001b[39;49m)], {}, params\u001b[39m=\u001b[39;49mparams)\n\u001b[0;32m      <a href='vscode-notebook-cell:/c%3A/Users/email/OneDrive/Documents/calhacksai/CalHacksAI2023/featureform_proj.ipynb#X51sZmlsZQ%3D%3D?line=3'>4</a>\u001b[0m     prompt \u001b[39m=\u001b[39m \u001b[39m\"\u001b[39m\u001b[39mUse the following snippets from the paper to answer the following question\u001b[39m\u001b[39m\\n\u001b[39;00m\u001b[39m\"\u001b[39m\n\u001b[0;32m      <a href='vscode-notebook-cell:/c%3A/Users/email/OneDrive/Documents/calhacksai/CalHacksAI2023/featureform_proj.ipynb#X51sZmlsZQ%3D%3D?line=4'>5</a>\u001b[0m     \u001b[39mfor\u001b[39;00m pk \u001b[39min\u001b[39;00m pks[\u001b[39m0\u001b[39m]:\n",
      "File \u001b[1;32m~\\AppData\\Roaming\\Python\\Python39\\site-packages\\featureform\\serving.py:592\u001b[0m, in \u001b[0;36mLocalClientImpl.features\u001b[1;34m(self, feature_variant_list, entities, model, params)\u001b[0m\n\u001b[0;32m    589\u001b[0m \u001b[39mself\u001b[39m\u001b[39m.\u001b[39mentities \u001b[39m=\u001b[39m entities\n\u001b[0;32m    590\u001b[0m \u001b[39mself\u001b[39m\u001b[39m.\u001b[39mparams \u001b[39m=\u001b[39m params \u001b[39mif\u001b[39;00m params \u001b[39melse\u001b[39;00m []\n\u001b[1;32m--> 592\u001b[0m \u001b[39mself\u001b[39;49m\u001b[39m.\u001b[39;49m__validate_entity_exists(entities, feature_variant_list)\n\u001b[0;32m    594\u001b[0m entity_name \u001b[39m=\u001b[39m \u001b[39mlist\u001b[39m(entities\u001b[39m.\u001b[39mkeys())[\u001b[39m0\u001b[39m] \u001b[39mif\u001b[39;00m \u001b[39mlen\u001b[39m(entities) \u001b[39m>\u001b[39m \u001b[39m0\u001b[39m \u001b[39melse\u001b[39;00m \u001b[39m\"\u001b[39m\u001b[39m\"\u001b[39m\n\u001b[0;32m    595\u001b[0m entity_value \u001b[39m=\u001b[39m entities[entity_name] \u001b[39mif\u001b[39;00m \u001b[39mlen\u001b[39m(entities) \u001b[39m>\u001b[39m \u001b[39m0\u001b[39m \u001b[39melse\u001b[39;00m \u001b[39m\"\u001b[39m\u001b[39m\"\u001b[39m\n",
      "File \u001b[1;32m~\\AppData\\Roaming\\Python\\Python39\\site-packages\\featureform\\serving.py:616\u001b[0m, in \u001b[0;36mLocalClientImpl.__validate_entity_exists\u001b[1;34m(self, entities, feature_variant_list)\u001b[0m\n\u001b[0;32m    613\u001b[0m \u001b[39mdef\u001b[39;00m \u001b[39m__validate_entity_exists\u001b[39m(\u001b[39mself\u001b[39m, entities, feature_variant_list):\n\u001b[0;32m    614\u001b[0m     \u001b[39m# validate entities exists if any of the features are not ondemand\u001b[39;00m\n\u001b[0;32m    615\u001b[0m     \u001b[39mif\u001b[39;00m \u001b[39many\u001b[39m(\n\u001b[1;32m--> 616\u001b[0m         [\n\u001b[0;32m    617\u001b[0m             \u001b[39mself\u001b[39m\u001b[39m.\u001b[39mdb\u001b[39m.\u001b[39mget_feature_variant_mode(f_name, f_variant)\n\u001b[0;32m    618\u001b[0m             \u001b[39m!=\u001b[39m ComputationMode\u001b[39m.\u001b[39mCLIENT_COMPUTED\n\u001b[0;32m    619\u001b[0m             \u001b[39mfor\u001b[39;00m f_name, f_variant \u001b[39min\u001b[39;00m feature_variant_list\n\u001b[0;32m    620\u001b[0m         ]\n\u001b[0;32m    621\u001b[0m     ):\n\u001b[0;32m    622\u001b[0m         \u001b[39mif\u001b[39;00m \u001b[39mlen\u001b[39m(entities) \u001b[39m==\u001b[39m \u001b[39m0\u001b[39m:\n\u001b[0;32m    623\u001b[0m             \u001b[39mraise\u001b[39;00m \u001b[39mException\u001b[39;00m(\u001b[39m\"\u001b[39m\u001b[39mEntities are required for features (unless ondemand)\u001b[39m\u001b[39m\"\u001b[39m)\n",
      "File \u001b[1;32m~\\AppData\\Roaming\\Python\\Python39\\site-packages\\featureform\\serving.py:617\u001b[0m, in \u001b[0;36m<listcomp>\u001b[1;34m(.0)\u001b[0m\n\u001b[0;32m    613\u001b[0m \u001b[39mdef\u001b[39;00m \u001b[39m__validate_entity_exists\u001b[39m(\u001b[39mself\u001b[39m, entities, feature_variant_list):\n\u001b[0;32m    614\u001b[0m     \u001b[39m# validate entities exists if any of the features are not ondemand\u001b[39;00m\n\u001b[0;32m    615\u001b[0m     \u001b[39mif\u001b[39;00m \u001b[39many\u001b[39m(\n\u001b[0;32m    616\u001b[0m         [\n\u001b[1;32m--> 617\u001b[0m             \u001b[39mself\u001b[39;49m\u001b[39m.\u001b[39;49mdb\u001b[39m.\u001b[39;49mget_feature_variant_mode(f_name, f_variant)\n\u001b[0;32m    618\u001b[0m             \u001b[39m!=\u001b[39m ComputationMode\u001b[39m.\u001b[39mCLIENT_COMPUTED\n\u001b[0;32m    619\u001b[0m             \u001b[39mfor\u001b[39;00m f_name, f_variant \u001b[39min\u001b[39;00m feature_variant_list\n\u001b[0;32m    620\u001b[0m         ]\n\u001b[0;32m    621\u001b[0m     ):\n\u001b[0;32m    622\u001b[0m         \u001b[39mif\u001b[39;00m \u001b[39mlen\u001b[39m(entities) \u001b[39m==\u001b[39m \u001b[39m0\u001b[39m:\n\u001b[0;32m    623\u001b[0m             \u001b[39mraise\u001b[39;00m \u001b[39mException\u001b[39;00m(\u001b[39m\"\u001b[39m\u001b[39mEntities are required for features (unless ondemand)\u001b[39m\u001b[39m\"\u001b[39m)\n",
      "File \u001b[1;32m~\\AppData\\Roaming\\Python\\Python39\\site-packages\\featureform\\sqlite_metadata.py:525\u001b[0m, in \u001b[0;36mSQLiteMetadata.get_feature_variant_mode\u001b[1;34m(self, name, variant)\u001b[0m\n\u001b[0;32m    520\u001b[0m feature_metadata \u001b[39m=\u001b[39m \u001b[39mself\u001b[39m\u001b[39m.\u001b[39mfetch_data_safe(\n\u001b[0;32m    521\u001b[0m     query, \u001b[39m\"\u001b[39m\u001b[39mfeature_computation_mode\u001b[39m\u001b[39m\"\u001b[39m, name, variant\n\u001b[0;32m    522\u001b[0m )\n\u001b[0;32m    524\u001b[0m \u001b[39mif\u001b[39;00m \u001b[39mlen\u001b[39m(feature_metadata) \u001b[39m==\u001b[39m \u001b[39m0\u001b[39m:\n\u001b[1;32m--> 525\u001b[0m     \u001b[39mraise\u001b[39;00m FeatureNotFound(name, variant)\n\u001b[0;32m    527\u001b[0m \u001b[39mreturn\u001b[39;00m feature_metadata[\u001b[39m0\u001b[39m][\u001b[39m\"\u001b[39m\u001b[39mmode\u001b[39m\u001b[39m\"\u001b[39m]\n",
      "\u001b[1;31mFeatureNotFound\u001b[0m: Feature 'relevant_comments:prototype2' not found. Verify that the feature is registered."
     ]
    }
   ],
   "source": [
    "client.apply()\n",
    "client.features([(\"contextualized_prompt\", \"prototype2\")], {}, params={\"query\": \"enterprise MLOps\"})"
   ]
  },
  {
   "cell_type": "code",
   "execution_count": null,
   "metadata": {},
   "outputs": [],
   "source": []
  }
 ],
 "metadata": {
  "kernelspec": {
   "display_name": "Python 3",
   "language": "python",
   "name": "python3"
  },
  "language_info": {
   "codemirror_mode": {
    "name": "ipython",
    "version": 3
   },
   "file_extension": ".py",
   "mimetype": "text/x-python",
   "name": "python",
   "nbconvert_exporter": "python",
   "pygments_lexer": "ipython3",
   "version": "3.9.0"
  },
  "orig_nbformat": 4
 },
 "nbformat": 4,
 "nbformat_minor": 2
}
