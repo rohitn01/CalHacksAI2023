{
 "cells": [
  {
   "cell_type": "code",
   "execution_count": 1,
   "metadata": {},
   "outputs": [
    {
     "name": "stdout",
     "output_type": "stream",
     "text": [
      "   Section Number                                            Content\n",
      "0               0  NBER WORKING PAPER SERIES THE IMPACT OF COVID-...\n",
      "1               1  Most major industries faced large drops in the...\n",
      "2               2  unprecedented . Conditioning on or more hours ...\n",
      "3               3  Latinx business owners drops from percent to p...\n",
      "4               4  References Alexander W. Bartik , Marianne Bert...\n",
      "5               5  Feb. Apr Gr oup Number Number Number % Change ...\n",
      "6               6  ,,,,,,,,,,,,,,,,,, Worked in Survey Week Worke...\n",
      "7               7  ,,,,,,,,, African-American Latinx AsianNumber ...\n"
     ]
    }
   ],
   "source": [
    "import pandas as pd\n",
    "import re\n",
    "import pypdf\n",
    "\n",
    "def clean_text(text):\n",
    "    # Remove numbers that appear randomly using regular expressions\n",
    "    cleaned_text = re.sub(r'\\b\\d+\\b', '', text)  # Remove standalone numbers\n",
    "    cleaned_text = re.sub(r'\\s+', ' ', cleaned_text)  # Replace multiple whitespaces with a single whitespace\n",
    "    cleaned_text = cleaned_text.strip()  # Remove leading/trailing whitespaces\n",
    "    return cleaned_text\n",
    "\n",
    "def parse_pdf_paragraphs(pdf_path):\n",
    "    paragraphs = []\n",
    "    with open(pdf_path, \"rb\") as file:\n",
    "        reader = pypdf.PdfReader(file)\n",
    "        num_pages = len(reader.pages)\n",
    "        for page_num in range(num_pages):\n",
    "            page = reader.pages[page_num]\n",
    "            text = page.extract_text()\n",
    "            page_paragraphs = text.split(\"\\n\\n\")\n",
    "            paragraphs.extend(page_paragraphs)\n",
    "    return paragraphs\n",
    "\n",
    "def split_into_sections(paragraphs, section_size):\n",
    "    sections = []\n",
    "    current_section = \"\"\n",
    "    for i, paragraph in enumerate(paragraphs):\n",
    "        cleaned_paragraph = clean_text(paragraph)\n",
    "        current_section += cleaned_paragraph + \" \"\n",
    "        if (i + 1) % section_size == 0:\n",
    "            sections.append(current_section.strip())\n",
    "            current_section = \"\"\n",
    "    if current_section:\n",
    "        sections.append(current_section.strip())\n",
    "    return sections\n",
    "\n",
    "# Example usage\n",
    "pdf_file_path = \"sample-pdf.pdf\"\n",
    "paragraphs = parse_pdf_paragraphs(pdf_file_path)\n",
    "section_size = 3\n",
    "parsed_sections = split_into_sections(paragraphs, section_size)\n",
    "\n",
    "# Convert sections to DataFrame\n",
    "data = {\n",
    "    \"Section Number\": range(len(parsed_sections)),\n",
    "    \"Content\": parsed_sections\n",
    "}\n",
    "df = pd.DataFrame(data)\n",
    "\n",
    "# Display the DataFrame\n",
    "print(df)"
   ]
  },
  {
   "cell_type": "code",
   "execution_count": 2,
   "metadata": {},
   "outputs": [
    {
     "data": {
      "text/plain": [
       "'Most major industries faced large drops in the number of business owners with the only exception being agriculture. Construction, restaurants, hotels and transportation all faced large declines in the number of business owners due to COVID -. Simulations reveal that the concentrations of female, black, Latinx and Asian businesses in industries hit hard by the pandemic contributed to why losses were higher for these groups than the national average loss. Overall, these first estimates of impacts of COVID - on small business es from the April CPS indicate that losses were spread across demographic groups and types of business – no group was immune to negative impacts of social distancing policy mandates and demand shifts. These results build on the findi ngs from a few previous studies of the early effects of the coronavirus on small businesses. Employer business applications as measured by the U.S. Census weekly Business Formation Statistics fell in the five weeks f rom mid -March to md -April by over percent relative to the previous year (Wilmoth ) . Estimates from the U.S. Census Small Business Pulse Survey indicate that roughly percent of businesses report having a large negative effect from the COVID - pandemic and that only - percent of businesses have enough cash on hand to cover months of operations (U.S. Census Bureau ; Bohn, Mejia and Lafortune ). Bartik et al. () conducted a survey in late March of nearly , small businesses that were members of the Alignable busines s network. They find that percent of businesses are temporarily closed, large reductions in employees, and the majority of businesses have less than one month of cash on hand. T he Stanford Latino Entrepreneurship Initiative () survey ed high-revenue Latin x-owned businesses and found that % of respondents reported immediate negative effects such as delayed projects and closure from the pandemic. This paper is the first to use CPS data covering the early effects of COVID - mandates and demand shifts on small businesses , and the first to explore differential effects for female, minority and immigrant business owners, which is potentially important for targeting government aid to preserve small businesses and the jobs they create. .Da ta Large literatures explore the causes and consequences of disparities in ownership and success of minority -, female - , and immigrant -owned businesses. For broader discussions and reviews of th ese literature, see, for example, Davila and Mora (); Fairlie and Robb (); Jennings and Brush () ; Kerr and Kerr. (); Parker (). . Current Population Survey (CPS) Although research on small businesses and entrepreneurship is growing rapidly, there are very few national datasets that provide information on ownership with additional information on demographic characteristics of the owners . Using micro data from the Current Population Surveys (CPS), I measure self-employed business ownership at the individual owner level. The underlying datasets are the bas ic monthly files to the Current Population Survey (CPS). These surveys, conducted monthly by the U.S. Bureau of the Census and the U.S. Bureau of Labor Statistics, are representative of the entire U.S. population and contain observations for more than , people. Measures of the number and rate of business ownership are available from only a handful of other large, nationally representative government datasets, such as the Survey of Business Owners (SBO), Census PUMS files, and the American Community Survey (ACS). Measures of business ownership based on these cross -sectional data, however, cannot capture recent patterns because there is often a to year delay in release . The CPS is ideal in that it release microdata within a month of the survey week . The measure of business ownership in the CPS captures all business owners including those who own incorporated or unincorporated businesses, and those who are employers or non - employers. Although some business owners own large businesses the predominate form are small businesses. I interpret the data as predominately covering small business owners. To estimate business ownership in the CPS data, I identify all individuals who own a busin ess as their main job in the survey month (based on the class of worker question and monthly labor force recode) . The business ownership rate is thus defined as the percentage of the labor force that owns and is actively employed in a business. The main job is defined as the one with the most hours worked during the survey week. Thus, individuals who start side businesses will not be counted if they are working more hours on a wage and salary job. In addition to providing information on business ownership , the CPS data include information on detailed demographic information including gender, race, and immigrant status of the owner . The data also include information on the industry and incorporation status of the business. Sur vey Timing and Shelte r-in-Place Restrictions The CPS survey reference period is generally the calendar week that contains the 12th day of the month. For April, the week was Sunday, April 12th through Saturday, April 18th. The March survey reference week was March 8th through March 14th. Given that shelter -in-place restrictions started after this reference week, the April is the first CPS survey fully covering the early -stage impacts of COVID -. On March , San Francisco Bay Area imposed shelter -in-place restriction s followed by the State of California on March . New York State followed the next day. By early April all state imposed social distancing restrictions. The analysis below mostly relies on comparisons between February (prior to social distancing policy mandates) and April ( the first month after policy mandates). . Results . Number of Business Owners I first examine small business owners hip patterns over time to determine the impacts of COVID- . Long- term trends in the number of business owners are displayed in Figure (and recent months in Table ) . The number of business owners working any amount and working at least hours in the survey week are reported. The choice of hours is made to approximate two days a week and accommodate lumpy hours reporting (i.e. often , , , etc…). Over the past two decades, the number of business owners in the United States has shown relatively smooth patterns over time with a slight upward trend. What is clear, however, is the dramatic drop in the number of business owners in April . The number of working business owners dropped from . million in February to . million in April because of COVID - . March only shows a small drop in business owners because of the limited effect from shelter -in-place restrictions. The loss of . million business owners (or percent) from February to April was the largest drop on record. When conditioning on working roughly two days per week, the losses are even lar ger. There were . million business owners working + hours in February and only . million in April . The drop of . million business owners or percent was In most analyses March is not included b ecause of partial effects. On March , the World Health Organization (WHO) declared COVID - a pandemic which might h ave resulted in early demand shifts over health concerns predating shelter-in -place restriction policies.'"
      ]
     },
     "execution_count": 2,
     "metadata": {},
     "output_type": "execute_result"
    }
   ],
   "source": [
    "df[\"Content\"][1]"
   ]
  },
  {
   "cell_type": "code",
   "execution_count": 3,
   "metadata": {},
   "outputs": [],
   "source": [
    "df.to_csv(\"paper.csv\", index=False)"
   ]
  },
  {
   "cell_type": "code",
   "execution_count": 4,
   "metadata": {},
   "outputs": [
    {
     "name": "stderr",
     "output_type": "stream",
     "text": [
      "TqdmWarning: IProgress not found. Please update jupyter and ipywidgets. See https://ipywidgets.readthedocs.io/en/stable/user_install.html\n"
     ]
    }
   ],
   "source": [
    "import featureform as ff\n",
    "from featureform import local\n",
    "\n",
    "client = ff.Client(local=True)"
   ]
  },
  {
   "cell_type": "code",
   "execution_count": 5,
   "metadata": {},
   "outputs": [],
   "source": [
    "ff.register_user(\"featureformer\").make_default_owner()\n",
    "\n",
    "local = ff.register_local()\n",
    "\n",
    "paper = local.register_file(\n",
    "    name=\"paper\",\n",
    "    variant=\"kishore\",\n",
    "    description=\"A dataset of paper sections\",\n",
    "    path=\"paper.csv\"\n",
    ")"
   ]
  },
  {
   "cell_type": "code",
   "execution_count": 6,
   "metadata": {},
   "outputs": [
    {
     "name": "stdout",
     "output_type": "stream",
     "text": [
      "Applying Run: musing_sammet\n",
      "Resource provider already registered.\n",
      "Creating user default_user \n",
      "Creating user featureformer \n",
      "Creating provider local-mode \n",
      "Creating source paper  kishore\n"
     ]
    },
    {
     "data": {
      "text/html": [
       "<div>\n",
       "<style scoped>\n",
       "    .dataframe tbody tr th:only-of-type {\n",
       "        vertical-align: middle;\n",
       "    }\n",
       "\n",
       "    .dataframe tbody tr th {\n",
       "        vertical-align: top;\n",
       "    }\n",
       "\n",
       "    .dataframe thead th {\n",
       "        text-align: right;\n",
       "    }\n",
       "</style>\n",
       "<table border=\"1\" class=\"dataframe\">\n",
       "  <thead>\n",
       "    <tr style=\"text-align: right;\">\n",
       "      <th></th>\n",
       "      <th>Section Number</th>\n",
       "      <th>Content</th>\n",
       "    </tr>\n",
       "  </thead>\n",
       "  <tbody>\n",
       "    <tr>\n",
       "      <th>0</th>\n",
       "      <td>0</td>\n",
       "      <td>NBER WORKING PAPER SERIES THE IMPACT OF COVID-...</td>\n",
       "    </tr>\n",
       "    <tr>\n",
       "      <th>1</th>\n",
       "      <td>1</td>\n",
       "      <td>Most major industries faced large drops in the...</td>\n",
       "    </tr>\n",
       "    <tr>\n",
       "      <th>2</th>\n",
       "      <td>2</td>\n",
       "      <td>unprecedented . Conditioning on or more hours ...</td>\n",
       "    </tr>\n",
       "    <tr>\n",
       "      <th>3</th>\n",
       "      <td>3</td>\n",
       "      <td>Latinx business owners drops from percent to p...</td>\n",
       "    </tr>\n",
       "    <tr>\n",
       "      <th>4</th>\n",
       "      <td>4</td>\n",
       "      <td>References Alexander W. Bartik , Marianne Bert...</td>\n",
       "    </tr>\n",
       "  </tbody>\n",
       "</table>\n",
       "</div>"
      ],
      "text/plain": [
       "   Section Number                                            Content\n",
       "0               0  NBER WORKING PAPER SERIES THE IMPACT OF COVID-...\n",
       "1               1  Most major industries faced large drops in the...\n",
       "2               2  unprecedented . Conditioning on or more hours ...\n",
       "3               3  Latinx business owners drops from percent to p...\n",
       "4               4  References Alexander W. Bartik , Marianne Bert..."
      ]
     },
     "execution_count": 6,
     "metadata": {},
     "output_type": "execute_result"
    }
   ],
   "source": [
    "paper_df = client.dataframe(paper)\n",
    "paper_df.head()"
   ]
  },
  {
   "cell_type": "code",
   "execution_count": 7,
   "metadata": {},
   "outputs": [],
   "source": [
    "#feature transformation\n",
    "@local.df_transformation(inputs=[paper])\n",
    "def get_section_length(paper_df):\n",
    "    \"\"\"the average transaction amount for a user \"\"\"\n",
    "    paper_df[\"Section Length\"] = paper_df[\"Content\"].apply(lambda x: len(x))\n",
    "    return paper_df"
   ]
  },
  {
   "cell_type": "code",
   "execution_count": 8,
   "metadata": {},
   "outputs": [
    {
     "name": "stdout",
     "output_type": "stream",
     "text": [
      "Applying Run: musing_sammet\n",
      "Creating provider local-mode \n",
      "Creating source get_section_length  musing_sammet\n"
     ]
    },
    {
     "data": {
      "text/html": [
       "<div>\n",
       "<style scoped>\n",
       "    .dataframe tbody tr th:only-of-type {\n",
       "        vertical-align: middle;\n",
       "    }\n",
       "\n",
       "    .dataframe tbody tr th {\n",
       "        vertical-align: top;\n",
       "    }\n",
       "\n",
       "    .dataframe thead th {\n",
       "        text-align: right;\n",
       "    }\n",
       "</style>\n",
       "<table border=\"1\" class=\"dataframe\">\n",
       "  <thead>\n",
       "    <tr style=\"text-align: right;\">\n",
       "      <th></th>\n",
       "      <th>Section Number</th>\n",
       "      <th>Content</th>\n",
       "      <th>Section Length</th>\n",
       "    </tr>\n",
       "  </thead>\n",
       "  <tbody>\n",
       "    <tr>\n",
       "      <th>0</th>\n",
       "      <td>0</td>\n",
       "      <td>NBER WORKING PAPER SERIES THE IMPACT OF COVID-...</td>\n",
       "      <td>5229</td>\n",
       "    </tr>\n",
       "    <tr>\n",
       "      <th>1</th>\n",
       "      <td>1</td>\n",
       "      <td>Most major industries faced large drops in the...</td>\n",
       "      <td>7336</td>\n",
       "    </tr>\n",
       "    <tr>\n",
       "      <th>2</th>\n",
       "      <td>2</td>\n",
       "      <td>unprecedented . Conditioning on or more hours ...</td>\n",
       "      <td>7121</td>\n",
       "    </tr>\n",
       "    <tr>\n",
       "      <th>3</th>\n",
       "      <td>3</td>\n",
       "      <td>Latinx business owners drops from percent to p...</td>\n",
       "      <td>5635</td>\n",
       "    </tr>\n",
       "    <tr>\n",
       "      <th>4</th>\n",
       "      <td>4</td>\n",
       "      <td>References Alexander W. Bartik , Marianne Bert...</td>\n",
       "      <td>3803</td>\n",
       "    </tr>\n",
       "  </tbody>\n",
       "</table>\n",
       "</div>"
      ],
      "text/plain": [
       "   Section Number                                            Content  \\\n",
       "0               0  NBER WORKING PAPER SERIES THE IMPACT OF COVID-...   \n",
       "1               1  Most major industries faced large drops in the...   \n",
       "2               2  unprecedented . Conditioning on or more hours ...   \n",
       "3               3  Latinx business owners drops from percent to p...   \n",
       "4               4  References Alexander W. Bartik , Marianne Bert...   \n",
       "\n",
       "   Section Length  \n",
       "0            5229  \n",
       "1            7336  \n",
       "2            7121  \n",
       "3            5635  \n",
       "4            3803  "
      ]
     },
     "execution_count": 8,
     "metadata": {},
     "output_type": "execute_result"
    }
   ],
   "source": [
    "full_df = client.dataframe(get_section_length)\n",
    "full_df.head()"
   ]
  },
  {
   "cell_type": "code",
   "execution_count": 9,
   "metadata": {},
   "outputs": [],
   "source": [
    "@local.df_transformation(inputs=[get_section_length])\n",
    "def vectorize_comments(full_df):\n",
    "    from sentence_transformers import SentenceTransformer\n",
    "\n",
    "    model = SentenceTransformer(\"all-MiniLM-L6-v2\")\n",
    "    embeddings = model.encode(full_df[\"Content\"].tolist())\n",
    "    full_df[\"Vector\"] = embeddings.tolist()\n",
    "    \n",
    "    return full_df"
   ]
  },
  {
   "cell_type": "code",
   "execution_count": 10,
   "metadata": {},
   "outputs": [],
   "source": [
    "PINECONE_API_KEY = '4628339c-b376-4efc-8190-fd52198e3e9b'\n",
    "PINECONE_ENVIRONMENT = 'us-west1-gcp-free'\n",
    "PINECONE_PROJECT_ID = 'e269605'\n",
    "\n",
    "pinecone = ff.register_pinecone(\n",
    "    name=\"pinecone\",\n",
    "    project_id = PINECONE_PROJECT_ID,\n",
    "    environment = PINECONE_ENVIRONMENT,\n",
    "    api_key = PINECONE_API_KEY\n",
    ")"
   ]
  },
  {
   "cell_type": "code",
   "execution_count": 11,
   "metadata": {},
   "outputs": [
    {
     "name": "stdout",
     "output_type": "stream",
     "text": [
      "Applying Run: musing_sammet\n",
      "Creating provider local-mode \n",
      "Creating provider pinecone \n",
      "Creating source vectorize_comments  musing_sammet\n"
     ]
    }
   ],
   "source": [
    "client.apply()"
   ]
  },
  {
   "cell_type": "code",
   "execution_count": 12,
   "metadata": {},
   "outputs": [],
   "source": [
    "@ff.entity\n",
    "class Section:\n",
    "    section_embeddings = ff.Embedding(\n",
    "        vectorize_comments[[\"Section Number\", \"Vector\"]],\n",
    "        dims=100,\n",
    "        vector_db=pinecone,\n",
    "        description=\"Embeddings created from sections of a paper\",\n",
    "        variant=\"v1\"\n",
    "    )\n",
    "    sections = ff.Feature(\n",
    "        get_section_length[[\"Section Number\", \"Content\"]],\n",
    "        type=ff.String,\n",
    "        description=\"Sections and their original content\",\n",
    "        variant=\"v1\"\n",
    "    )"
   ]
  },
  {
   "cell_type": "code",
   "execution_count": 13,
   "metadata": {},
   "outputs": [],
   "source": [
    "@ff.ondemand_feature(variant=\"prototype\")\n",
    "def relevant_sections(client, params, entity):\n",
    "    from sentence_transformers import SentenceTransformer\n",
    "\n",
    "    model = SentenceTransformer(\"all-MiniLM-L6-v2\")\n",
    "    search_vector = model.encode(params[\"query\"])\n",
    "    res = client.nearest(\"section_embeddings\", \"v1\", search_vector, k=3)\n",
    "    return res"
   ]
  },
  {
   "cell_type": "code",
   "execution_count": 14,
   "metadata": {},
   "outputs": [],
   "source": [
    "query_topic = 'Small Business'"
   ]
  },
  {
   "cell_type": "code",
   "execution_count": 15,
   "metadata": {},
   "outputs": [
    {
     "name": "stdout",
     "output_type": "stream",
     "text": [
      "Applying Run: musing_sammet\n",
      "Creating provider local-mode \n",
      "Creating entity section \n",
      "Creating feature section_embeddings  v1\n",
      "Creating feature sections  v1\n",
      "Creating ondemand_feature relevant_sections  prototype\n"
     ]
    },
    {
     "name": "stderr",
     "output_type": "stream",
     "text": [
      "ResourceWarning: unclosed <ssl.SSLSocket fd=1696, family=AddressFamily.AF_INET, type=SocketKind.SOCK_STREAM, proto=0, laddr=('10.142.60.126', 63995), raddr=('35.247.126.212', 443)>\n"
     ]
    },
    {
     "ename": "FileNotFoundError",
     "evalue": "[WinError 3] The system cannot find the path specified: 'c:\\\\\\\\Users\\\\\\\\email\\\\\\\\OneDrive\\\\\\\\Documents\\\\\\\\calhacksai\\\\\\\\CalHacksAI2023\\\\\\\\paper.csv'",
     "output_type": "error",
     "traceback": [
      "\u001b[1;31m---------------------------------------------------------------------------\u001b[0m",
      "\u001b[1;31mFileNotFoundError\u001b[0m                         Traceback (most recent call last)",
      "\u001b[1;32mc:\\Program Files\\calhacksai\\CalHacksAI2023\\featureform_proj.ipynb Cell 15\u001b[0m in \u001b[0;36m<cell line: 1>\u001b[1;34m()\u001b[0m\n\u001b[1;32m----> <a href='vscode-notebook-cell:/c%3A/Program%20Files/calhacksai/CalHacksAI2023/featureform_proj.ipynb#X20sZmlsZQ%3D%3D?line=0'>1</a>\u001b[0m client\u001b[39m.\u001b[39;49mapply()\n\u001b[0;32m      <a href='vscode-notebook-cell:/c%3A/Program%20Files/calhacksai/CalHacksAI2023/featureform_proj.ipynb#X20sZmlsZQ%3D%3D?line=1'>2</a>\u001b[0m client\u001b[39m.\u001b[39mfeatures([(\u001b[39m\"\u001b[39m\u001b[39mrelevant_sections\u001b[39m\u001b[39m\"\u001b[39m, \u001b[39m\"\u001b[39m\u001b[39mprototype\u001b[39m\u001b[39m\"\u001b[39m)], {}, params\u001b[39m=\u001b[39m{\u001b[39m\"\u001b[39m\u001b[39mquery\u001b[39m\u001b[39m\"\u001b[39m: query_topic})\n",
      "File \u001b[1;32m~\\AppData\\Roaming\\Python\\Python39\\site-packages\\featureform\\register.py:3867\u001b[0m, in \u001b[0;36mResourceClient.apply\u001b[1;34m(self, asynchronous)\u001b[0m\n\u001b[0;32m   3864\u001b[0m     \u001b[39mreturn\u001b[39;00m\n\u001b[0;32m   3866\u001b[0m \u001b[39mif\u001b[39;00m \u001b[39mself\u001b[39m\u001b[39m.\u001b[39mlocal:\n\u001b[1;32m-> 3867\u001b[0m     resource_state\u001b[39m.\u001b[39;49mcreate_all_local()\n\u001b[0;32m   3868\u001b[0m \u001b[39melse\u001b[39;00m:\n\u001b[0;32m   3869\u001b[0m     resource_state\u001b[39m.\u001b[39mcreate_all(\u001b[39mself\u001b[39m\u001b[39m.\u001b[39m_stub)\n",
      "File \u001b[1;32m~\\AppData\\Roaming\\Python\\Python39\\site-packages\\featureform\\resources.py:2001\u001b[0m, in \u001b[0;36mResourceState.create_all_local\u001b[1;34m(self)\u001b[0m\n\u001b[0;32m   1999\u001b[0m client \u001b[39m=\u001b[39m LocalClientImpl()\n\u001b[0;32m   2000\u001b[0m \u001b[39mfor\u001b[39;00m feature \u001b[39min\u001b[39;00m features:\n\u001b[1;32m-> 2001\u001b[0m     client\u001b[39m.\u001b[39;49mcompute_feature(feature\u001b[39m.\u001b[39;49mname, feature\u001b[39m.\u001b[39;49mvariant, feature\u001b[39m.\u001b[39;49mentity)\n\u001b[0;32m   2002\u001b[0m \u001b[39mreturn\u001b[39;00m\n",
      "File \u001b[1;32m~\\AppData\\Roaming\\Python\\Python39\\site-packages\\featureform\\serving.py:687\u001b[0m, in \u001b[0;36mLocalClientImpl.compute_feature\u001b[1;34m(self, f_name, f_variant, entity_name)\u001b[0m\n\u001b[0;32m    680\u001b[0m     \u001b[39mraise\u001b[39;00m \u001b[39mValueError\u001b[39;00m(\n\u001b[0;32m    681\u001b[0m         \u001b[39mf\u001b[39m\u001b[39m\"\u001b[39m\u001b[39mInvalid entity \u001b[39m\u001b[39m{\u001b[39;00mentity_name\u001b[39m}\u001b[39;00m\u001b[39m for feature \u001b[39m\u001b[39m{\u001b[39;00msource_name\u001b[39m}\u001b[39;00m\u001b[39m-\u001b[39m\u001b[39m{\u001b[39;00msource_variant\u001b[39m}\u001b[39;00m\u001b[39m\"\u001b[39m\n\u001b[0;32m    682\u001b[0m     )\n\u001b[0;32m    683\u001b[0m \u001b[39mif\u001b[39;00m (\n\u001b[0;32m    684\u001b[0m     \u001b[39mself\u001b[39m\u001b[39m.\u001b[39mdb\u001b[39m.\u001b[39mis_transformation(source_name, source_variant)\n\u001b[0;32m    685\u001b[0m     \u001b[39m!=\u001b[39m SourceType\u001b[39m.\u001b[39mPRIMARY_SOURCE\u001b[39m.\u001b[39mvalue\n\u001b[0;32m    686\u001b[0m ):\n\u001b[1;32m--> 687\u001b[0m     feature_df \u001b[39m=\u001b[39m \u001b[39mself\u001b[39;49m\u001b[39m.\u001b[39;49mprocess_non_primary_df_transformation(\n\u001b[0;32m    688\u001b[0m         feature, source_name, source_variant, entity_name\n\u001b[0;32m    689\u001b[0m     )\n\u001b[0;32m    690\u001b[0m \u001b[39melse\u001b[39;00m:\n\u001b[0;32m    691\u001b[0m     source \u001b[39m=\u001b[39m \u001b[39mself\u001b[39m\u001b[39m.\u001b[39mdb\u001b[39m.\u001b[39mget_source_variant(source_name, source_variant)\n",
      "File \u001b[1;32m~\\AppData\\Roaming\\Python\\Python39\\site-packages\\featureform\\serving.py:766\u001b[0m, in \u001b[0;36mLocalClientImpl.process_non_primary_df_transformation\u001b[1;34m(self, feature, source_name, source_variant, entity_id)\u001b[0m\n\u001b[0;32m    762\u001b[0m \u001b[39mdef\u001b[39;00m \u001b[39mprocess_non_primary_df_transformation\u001b[39m(\n\u001b[0;32m    763\u001b[0m     \u001b[39mself\u001b[39m, feature, source_name, source_variant, entity_id\n\u001b[0;32m    764\u001b[0m ):\n\u001b[0;32m    765\u001b[0m     name_variant \u001b[39m=\u001b[39m \u001b[39mf\u001b[39m\u001b[39m\"\u001b[39m\u001b[39m{\u001b[39;00mfeature[\u001b[39m'\u001b[39m\u001b[39mname\u001b[39m\u001b[39m'\u001b[39m]\u001b[39m}\u001b[39;00m\u001b[39m.\u001b[39m\u001b[39m{\u001b[39;00mfeature[\u001b[39m'\u001b[39m\u001b[39mvariant\u001b[39m\u001b[39m'\u001b[39m]\u001b[39m}\u001b[39;00m\u001b[39m\"\u001b[39m\n\u001b[1;32m--> 766\u001b[0m     feature_df \u001b[39m=\u001b[39m \u001b[39mself\u001b[39;49m\u001b[39m.\u001b[39;49mprocess_transformation(source_name, source_variant)\n\u001b[0;32m    767\u001b[0m     \u001b[39mif\u001b[39;00m \u001b[39misinstance\u001b[39m(feature_df, pd\u001b[39m.\u001b[39mSeries):\n\u001b[0;32m    768\u001b[0m         feature_df \u001b[39m=\u001b[39m feature_df\u001b[39m.\u001b[39mto_frame()\n",
      "File \u001b[1;32m~\\AppData\\Roaming\\Python\\Python39\\site-packages\\featureform\\serving.py:461\u001b[0m, in \u001b[0;36mLocalClientImpl.process_transformation\u001b[1;34m(self, name, variant)\u001b[0m\n\u001b[0;32m    458\u001b[0m         new_data \u001b[39m=\u001b[39m func(\u001b[39m*\u001b[39mdataframes)\n\u001b[0;32m    459\u001b[0m     \u001b[39mreturn\u001b[39;00m new_data\n\u001b[1;32m--> 461\u001b[0m \u001b[39mreturn\u001b[39;00m \u001b[39mself\u001b[39;49m\u001b[39m.\u001b[39;49mlocal_cache\u001b[39m.\u001b[39;49mget_or_put(\n\u001b[0;32m    462\u001b[0m     resource_type\u001b[39m=\u001b[39;49m\u001b[39m\"\u001b[39;49m\u001b[39mtransformation\u001b[39;49m\u001b[39m\"\u001b[39;49m,\n\u001b[0;32m    463\u001b[0m     resource_name\u001b[39m=\u001b[39;49mname,\n\u001b[0;32m    464\u001b[0m     resource_variant\u001b[39m=\u001b[39;49mvariant,\n\u001b[0;32m    465\u001b[0m     source_name\u001b[39m=\u001b[39;49mname,\n\u001b[0;32m    466\u001b[0m     source_variant\u001b[39m=\u001b[39;49mvariant,\n\u001b[0;32m    467\u001b[0m     func\u001b[39m=\u001b[39;49mget,\n\u001b[0;32m    468\u001b[0m )\n",
      "File \u001b[1;32m~\\AppData\\Roaming\\Python\\Python39\\site-packages\\typeguard\\__init__.py:1033\u001b[0m, in \u001b[0;36mtypechecked.<locals>.wrapper\u001b[1;34m(*args, **kwargs)\u001b[0m\n\u001b[0;32m   1031\u001b[0m memo \u001b[39m=\u001b[39m _CallMemo(python_func, _localns, args\u001b[39m=\u001b[39margs, kwargs\u001b[39m=\u001b[39mkwargs)\n\u001b[0;32m   1032\u001b[0m check_argument_types(memo)\n\u001b[1;32m-> 1033\u001b[0m retval \u001b[39m=\u001b[39m func(\u001b[39m*\u001b[39margs, \u001b[39m*\u001b[39m\u001b[39m*\u001b[39mkwargs)\n\u001b[0;32m   1034\u001b[0m \u001b[39mtry\u001b[39;00m:\n\u001b[0;32m   1035\u001b[0m     check_return_type(retval, memo)\n",
      "File \u001b[1;32m~\\AppData\\Roaming\\Python\\Python39\\site-packages\\featureform\\local_cache.py:56\u001b[0m, in \u001b[0;36mLocalCache.get_or_put\u001b[1;34m(self, resource_type, resource_name, resource_variant, source_name, source_variant, func)\u001b[0m\n\u001b[0;32m     49\u001b[0m \u001b[39m# get source files from db or compute the sources\u001b[39;00m\n\u001b[0;32m     50\u001b[0m source_files: Set[\u001b[39mstr\u001b[39m] \u001b[39m=\u001b[39m (\n\u001b[0;32m     51\u001b[0m     \u001b[39mset\u001b[39m(\u001b[39mmap\u001b[39m(\u001b[39mlambda\u001b[39;00m x: x[\u001b[39m\"\u001b[39m\u001b[39mfile_path\u001b[39m\u001b[39m\"\u001b[39m], source_files_from_db))\n\u001b[0;32m     52\u001b[0m     \u001b[39mif\u001b[39;00m source_files_from_db\n\u001b[0;32m     53\u001b[0m     \u001b[39melse\u001b[39;00m \u001b[39mself\u001b[39m\u001b[39m.\u001b[39mget_source_files_for_source(source_name, source_variant)\n\u001b[0;32m     54\u001b[0m )\n\u001b[1;32m---> 56\u001b[0m \u001b[39mreturn\u001b[39;00m \u001b[39mself\u001b[39;49m\u001b[39m.\u001b[39;49m_get_or_put(\n\u001b[0;32m     57\u001b[0m     resource_type,\n\u001b[0;32m     58\u001b[0m     resource_name,\n\u001b[0;32m     59\u001b[0m     resource_variant,\n\u001b[0;32m     60\u001b[0m     cache_file_path,\n\u001b[0;32m     61\u001b[0m     source_files,\n\u001b[0;32m     62\u001b[0m     func,\n\u001b[0;32m     63\u001b[0m )\n",
      "File \u001b[1;32m~\\AppData\\Roaming\\Python\\Python39\\site-packages\\featureform\\local_cache.py:147\u001b[0m, in \u001b[0;36mLocalCache._get_or_put\u001b[1;34m(self, resource_type, resource_name, resource_variant, file_path, source_files, func)\u001b[0m\n\u001b[0;32m    144\u001b[0m     \u001b[39mreturn\u001b[39;00m pd\u001b[39m.\u001b[39mread_pickle(file_path)\n\u001b[0;32m    145\u001b[0m \u001b[39melse\u001b[39;00m:\n\u001b[0;32m    146\u001b[0m     \u001b[39m# create the dir if not exists and write the file\u001b[39;00m\n\u001b[1;32m--> 147\u001b[0m     df \u001b[39m=\u001b[39m func()\n\u001b[0;32m    148\u001b[0m     os\u001b[39m.\u001b[39mmakedirs(\u001b[39mself\u001b[39m\u001b[39m.\u001b[39mcache_dir, exist_ok\u001b[39m=\u001b[39m\u001b[39mTrue\u001b[39;00m)\n\u001b[0;32m    149\u001b[0m     df\u001b[39m.\u001b[39mto_pickle(file_path)\n",
      "File \u001b[1;32m~\\AppData\\Roaming\\Python\\Python39\\site-packages\\featureform\\serving.py:456\u001b[0m, in \u001b[0;36mLocalClientImpl.process_transformation.<locals>.get\u001b[1;34m()\u001b[0m\n\u001b[0;32m    451\u001b[0m \u001b[39mfor\u001b[39;00m \u001b[39minput\u001b[39m \u001b[39min\u001b[39;00m inputs:\n\u001b[0;32m    452\u001b[0m     source_name, source_variant \u001b[39m=\u001b[39m (\n\u001b[0;32m    453\u001b[0m         \u001b[39minput\u001b[39m[\u001b[39m0\u001b[39m],\n\u001b[0;32m    454\u001b[0m         \u001b[39minput\u001b[39m[\u001b[39m1\u001b[39m],\n\u001b[0;32m    455\u001b[0m     )\n\u001b[1;32m--> 456\u001b[0m     dataframes\u001b[39m.\u001b[39mappend(\u001b[39mself\u001b[39;49m\u001b[39m.\u001b[39;49mget_input_df(source_name, source_variant))\n\u001b[0;32m    457\u001b[0m func \u001b[39m=\u001b[39m types\u001b[39m.\u001b[39mFunctionType(code, \u001b[39mglobals\u001b[39m(), \u001b[39m\"\u001b[39m\u001b[39mtransformation\u001b[39m\u001b[39m\"\u001b[39m)\n\u001b[0;32m    458\u001b[0m new_data \u001b[39m=\u001b[39m func(\u001b[39m*\u001b[39mdataframes)\n",
      "File \u001b[1;32m~\\AppData\\Roaming\\Python\\Python39\\site-packages\\featureform\\serving.py:401\u001b[0m, in \u001b[0;36mLocalClientImpl.get_input_df\u001b[1;34m(self, source_name, source_variant)\u001b[0m\n\u001b[0;32m    398\u001b[0m     \u001b[39mreturn\u001b[39;00m \u001b[39mself\u001b[39m\u001b[39m.\u001b[39mread_directory(directory)\n\u001b[0;32m    400\u001b[0m \u001b[39melse\u001b[39;00m:\n\u001b[1;32m--> 401\u001b[0m     df \u001b[39m=\u001b[39m \u001b[39mself\u001b[39;49m\u001b[39m.\u001b[39;49mprocess_transformation(source_name, source_variant)\n\u001b[0;32m    402\u001b[0m \u001b[39mreturn\u001b[39;00m df\n",
      "File \u001b[1;32m~\\AppData\\Roaming\\Python\\Python39\\site-packages\\featureform\\serving.py:461\u001b[0m, in \u001b[0;36mLocalClientImpl.process_transformation\u001b[1;34m(self, name, variant)\u001b[0m\n\u001b[0;32m    458\u001b[0m         new_data \u001b[39m=\u001b[39m func(\u001b[39m*\u001b[39mdataframes)\n\u001b[0;32m    459\u001b[0m     \u001b[39mreturn\u001b[39;00m new_data\n\u001b[1;32m--> 461\u001b[0m \u001b[39mreturn\u001b[39;00m \u001b[39mself\u001b[39;49m\u001b[39m.\u001b[39;49mlocal_cache\u001b[39m.\u001b[39;49mget_or_put(\n\u001b[0;32m    462\u001b[0m     resource_type\u001b[39m=\u001b[39;49m\u001b[39m\"\u001b[39;49m\u001b[39mtransformation\u001b[39;49m\u001b[39m\"\u001b[39;49m,\n\u001b[0;32m    463\u001b[0m     resource_name\u001b[39m=\u001b[39;49mname,\n\u001b[0;32m    464\u001b[0m     resource_variant\u001b[39m=\u001b[39;49mvariant,\n\u001b[0;32m    465\u001b[0m     source_name\u001b[39m=\u001b[39;49mname,\n\u001b[0;32m    466\u001b[0m     source_variant\u001b[39m=\u001b[39;49mvariant,\n\u001b[0;32m    467\u001b[0m     func\u001b[39m=\u001b[39;49mget,\n\u001b[0;32m    468\u001b[0m )\n",
      "File \u001b[1;32m~\\AppData\\Roaming\\Python\\Python39\\site-packages\\typeguard\\__init__.py:1033\u001b[0m, in \u001b[0;36mtypechecked.<locals>.wrapper\u001b[1;34m(*args, **kwargs)\u001b[0m\n\u001b[0;32m   1031\u001b[0m memo \u001b[39m=\u001b[39m _CallMemo(python_func, _localns, args\u001b[39m=\u001b[39margs, kwargs\u001b[39m=\u001b[39mkwargs)\n\u001b[0;32m   1032\u001b[0m check_argument_types(memo)\n\u001b[1;32m-> 1033\u001b[0m retval \u001b[39m=\u001b[39m func(\u001b[39m*\u001b[39margs, \u001b[39m*\u001b[39m\u001b[39m*\u001b[39mkwargs)\n\u001b[0;32m   1034\u001b[0m \u001b[39mtry\u001b[39;00m:\n\u001b[0;32m   1035\u001b[0m     check_return_type(retval, memo)\n",
      "File \u001b[1;32m~\\AppData\\Roaming\\Python\\Python39\\site-packages\\featureform\\local_cache.py:45\u001b[0m, in \u001b[0;36mLocalCache.get_or_put\u001b[1;34m(self, resource_type, resource_name, resource_variant, source_name, source_variant, func)\u001b[0m\n\u001b[0;32m     41\u001b[0m source_files_from_db \u001b[39m=\u001b[39m \u001b[39mself\u001b[39m\u001b[39m.\u001b[39mdb\u001b[39m.\u001b[39mget_source_files_for_resource(\n\u001b[0;32m     42\u001b[0m     resource_type, resource_name, resource_variant\n\u001b[0;32m     43\u001b[0m )\n\u001b[0;32m     44\u001b[0m \u001b[39mif\u001b[39;00m source_files_from_db:\n\u001b[1;32m---> 45\u001b[0m     \u001b[39mself\u001b[39;49m\u001b[39m.\u001b[39;49m_invalidate_cache_if_source_files_changed(\n\u001b[0;32m     46\u001b[0m         source_files_from_db, cache_file_path\n\u001b[0;32m     47\u001b[0m     )\n\u001b[0;32m     49\u001b[0m \u001b[39m# get source files from db or compute the sources\u001b[39;00m\n\u001b[0;32m     50\u001b[0m source_files: Set[\u001b[39mstr\u001b[39m] \u001b[39m=\u001b[39m (\n\u001b[0;32m     51\u001b[0m     \u001b[39mset\u001b[39m(\u001b[39mmap\u001b[39m(\u001b[39mlambda\u001b[39;00m x: x[\u001b[39m\"\u001b[39m\u001b[39mfile_path\u001b[39m\u001b[39m\"\u001b[39m], source_files_from_db))\n\u001b[0;32m     52\u001b[0m     \u001b[39mif\u001b[39;00m source_files_from_db\n\u001b[0;32m     53\u001b[0m     \u001b[39melse\u001b[39;00m \u001b[39mself\u001b[39m\u001b[39m.\u001b[39mget_source_files_for_source(source_name, source_variant)\n\u001b[0;32m     54\u001b[0m )\n",
      "File \u001b[1;32m~\\AppData\\Roaming\\Python\\Python39\\site-packages\\featureform\\local_cache.py:196\u001b[0m, in \u001b[0;36mLocalCache._invalidate_cache_if_source_files_changed\u001b[1;34m(self, source_files_from_db, cache_file_path)\u001b[0m\n\u001b[0;32m    193\u001b[0m \u001b[39mdef\u001b[39;00m \u001b[39m_invalidate_cache_if_source_files_changed\u001b[39m(\n\u001b[0;32m    194\u001b[0m     \u001b[39mself\u001b[39m, source_files_from_db, cache_file_path\n\u001b[0;32m    195\u001b[0m ):\n\u001b[1;32m--> 196\u001b[0m     \u001b[39mif\u001b[39;00m \u001b[39many\u001b[39;49m(\n\u001b[0;32m    197\u001b[0m         \u001b[39mself\u001b[39;49m\u001b[39m.\u001b[39;49m_file_has_changed(source_file[\u001b[39m\"\u001b[39;49m\u001b[39mupdated_at\u001b[39;49m\u001b[39m\"\u001b[39;49m], source_file[\u001b[39m\"\u001b[39;49m\u001b[39mfile_path\u001b[39;49m\u001b[39m\"\u001b[39;49m])\n\u001b[0;32m    198\u001b[0m         \u001b[39mfor\u001b[39;49;00m source_file \u001b[39min\u001b[39;49;00m source_files_from_db\n\u001b[0;32m    199\u001b[0m     ):\n\u001b[0;32m    200\u001b[0m         \u001b[39mif\u001b[39;00m os\u001b[39m.\u001b[39mpath\u001b[39m.\u001b[39mexists(cache_file_path):\n\u001b[0;32m    201\u001b[0m             os\u001b[39m.\u001b[39mremove(cache_file_path)\n",
      "File \u001b[1;32m~\\AppData\\Roaming\\Python\\Python39\\site-packages\\featureform\\local_cache.py:197\u001b[0m, in \u001b[0;36m<genexpr>\u001b[1;34m(.0)\u001b[0m\n\u001b[0;32m    193\u001b[0m \u001b[39mdef\u001b[39;00m \u001b[39m_invalidate_cache_if_source_files_changed\u001b[39m(\n\u001b[0;32m    194\u001b[0m     \u001b[39mself\u001b[39m, source_files_from_db, cache_file_path\n\u001b[0;32m    195\u001b[0m ):\n\u001b[0;32m    196\u001b[0m     \u001b[39mif\u001b[39;00m \u001b[39many\u001b[39m(\n\u001b[1;32m--> 197\u001b[0m         \u001b[39mself\u001b[39;49m\u001b[39m.\u001b[39;49m_file_has_changed(source_file[\u001b[39m\"\u001b[39;49m\u001b[39mupdated_at\u001b[39;49m\u001b[39m\"\u001b[39;49m], source_file[\u001b[39m\"\u001b[39;49m\u001b[39mfile_path\u001b[39;49m\u001b[39m\"\u001b[39;49m])\n\u001b[0;32m    198\u001b[0m         \u001b[39mfor\u001b[39;00m source_file \u001b[39min\u001b[39;00m source_files_from_db\n\u001b[0;32m    199\u001b[0m     ):\n\u001b[0;32m    200\u001b[0m         \u001b[39mif\u001b[39;00m os\u001b[39m.\u001b[39mpath\u001b[39m.\u001b[39mexists(cache_file_path):\n\u001b[0;32m    201\u001b[0m             os\u001b[39m.\u001b[39mremove(cache_file_path)\n",
      "File \u001b[1;32m~\\AppData\\Roaming\\Python\\Python39\\site-packages\\featureform\\local_cache.py:213\u001b[0m, in \u001b[0;36mLocalCache._file_has_changed\u001b[1;34m(last_updated_at, file_path)\u001b[0m\n\u001b[0;32m    207\u001b[0m \u001b[39m@staticmethod\u001b[39m\n\u001b[0;32m    208\u001b[0m \u001b[39mdef\u001b[39;00m \u001b[39m_file_has_changed\u001b[39m(last_updated_at, file_path):\n\u001b[0;32m    209\u001b[0m \u001b[39m    \u001b[39m\u001b[39m\"\"\"\u001b[39;00m\n\u001b[0;32m    210\u001b[0m \u001b[39m    Currently using last updated at for determining if a file has changed. We can consider using the file hash\u001b[39;00m\n\u001b[0;32m    211\u001b[0m \u001b[39m    if this becomes a performance issue.\u001b[39;00m\n\u001b[0;32m    212\u001b[0m \u001b[39m    \"\"\"\u001b[39;00m\n\u001b[1;32m--> 213\u001b[0m     os_last_updated \u001b[39m=\u001b[39m os\u001b[39m.\u001b[39;49mpath\u001b[39m.\u001b[39;49mgetmtime(file_path)\n\u001b[0;32m    214\u001b[0m     \u001b[39mreturn\u001b[39;00m os_last_updated \u001b[39m>\u001b[39m \u001b[39mfloat\u001b[39m(last_updated_at)\n",
      "File \u001b[1;32mc:\\Program Files\\Python 3.9\\lib\\genericpath.py:55\u001b[0m, in \u001b[0;36mgetmtime\u001b[1;34m(filename)\u001b[0m\n\u001b[0;32m     53\u001b[0m \u001b[39mdef\u001b[39;00m \u001b[39mgetmtime\u001b[39m(filename):\n\u001b[0;32m     54\u001b[0m \u001b[39m    \u001b[39m\u001b[39m\"\"\"Return the last modification time of a file, reported by os.stat().\"\"\"\u001b[39;00m\n\u001b[1;32m---> 55\u001b[0m     \u001b[39mreturn\u001b[39;00m os\u001b[39m.\u001b[39;49mstat(filename)\u001b[39m.\u001b[39mst_mtime\n",
      "\u001b[1;31mFileNotFoundError\u001b[0m: [WinError 3] The system cannot find the path specified: 'c:\\\\\\\\Users\\\\\\\\email\\\\\\\\OneDrive\\\\\\\\Documents\\\\\\\\calhacksai\\\\\\\\CalHacksAI2023\\\\\\\\paper.csv'"
     ]
    }
   ],
   "source": [
    "client.apply()\n",
    "client.features([(\"relevant_sections\", \"prototype\")], {}, params={\"query\": query_topic})"
   ]
  },
  {
   "cell_type": "code",
   "execution_count": null,
   "metadata": {},
   "outputs": [],
   "source": [
    "@ff.ondemand_feature(variant=\"prototype2\")\n",
    "def contextualized_prompt(client, params, entity):\n",
    "    pks = client.features([(\"relevant_comments\", \"prototype\")], {}, params=params)\n",
    "    prompt = \"Use the following snippets from the paper to answer the following question\\n\"\n",
    "    for pk in pks[0]:\n",
    "        prompt += \"```\"\n",
    "        prompt += client.features([(\"sections\", \"v1\")], {\"section\": pk})[0]\n",
    "        prompt += \"```\\n\"\n",
    "    prompt += \"Question: \"\n",
    "    prompt += params[\"query\"]\n",
    "    prompt += \"?\"\n",
    "    return prompt"
   ]
  },
  {
   "cell_type": "code",
   "execution_count": null,
   "metadata": {},
   "outputs": [],
   "source": [
    "client.apply()\n",
    "client.features([(\"contextualized_prompt\", \"prototype2\")], {}, params={\"query\": \"query_topic\"})"
   ]
  },
  {
   "cell_type": "code",
   "execution_count": null,
   "metadata": {},
   "outputs": [],
   "source": [
    "\"\"\"client.apply()\n",
    "q = \"What should I know about MLOps testing\"\n",
    "prompt = client.features([(\"contextualized_prompt\", \"calhack\")], {}, params={\"query\": q})[0]\n",
    "import openai\n",
    "openai.organization = os.getenv(\"OPENAI_ORG\", \"\")\n",
    "openai.api_key = os.getenv(\"OPENAI_KEY\", \"\")\n",
    "print(openai.Completion.create(\n",
    "    model=\"text-davinci-003\",\n",
    "    prompt=prompt,\n",
    "    max_tokens=1000, # The max number of tokens to generate\n",
    "    temperature=1.0 # A measure of randomness\n",
    ")[\"choices\"][0][\"text\"])\"\"\""
   ]
  }
 ],
 "metadata": {
  "kernelspec": {
   "display_name": "Python 3",
   "language": "python",
   "name": "python3"
  },
  "language_info": {
   "codemirror_mode": {
    "name": "ipython",
    "version": 3
   },
   "file_extension": ".py",
   "mimetype": "text/x-python",
   "name": "python",
   "nbconvert_exporter": "python",
   "pygments_lexer": "ipython3",
   "version": "3.9.0"
  },
  "orig_nbformat": 4
 },
 "nbformat": 4,
 "nbformat_minor": 2
}
